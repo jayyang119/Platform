{
 "cells": [
  {
   "cell_type": "markdown",
   "metadata": {},
   "source": [
    "#### Import Dependencies"
   ]
  },
  {
   "cell_type": "code",
   "execution_count": 2,
   "metadata": {},
   "outputs": [],
   "source": [
    "import sys\n",
    "import numpy as np\n",
    "import pandas as pd\n",
    "from pathlib import Path\n",
    "sys.path.append('./asc-library-temp')\n",
    "from library import Dataset\n",
    "import plotly.express as px\n",
    "import datetime"
   ]
  },
  {
   "cell_type": "markdown",
   "metadata": {},
   "source": [
    "---\n",
    "##### primary formatting"
   ]
  },
  {
   "cell_type": "code",
   "execution_count": 5,
   "metadata": {},
   "outputs": [
    {
     "data": {
      "text/plain": [
       "Europe    8328\n",
       "Name: exch_region, dtype: int64"
      ]
     },
     "execution_count": 5,
     "metadata": {},
     "output_type": "execute_result"
    }
   ],
   "source": [
    "scoring_system = Path(r\"c:\\\\Users\\\\RyanLing\\\\OneDrive - Alpha Sherpa Capital\\\\Desktop\\\\Kepler Platform (tidy)\\\\Scoring system\")\n",
    "monte_carlos = scoring_system/\"monte carlo\"\n",
    "\n",
    "# r_with_sl is a csv with d0 to d2 r, market data, and trading side determined\n",
    "# those with no action (nither long or short)\n",
    "# r_with_sl = pd.read_csv(monte_carlos/\"r_with_sl.csv\", low_memory=False)\n",
    "# r_with_sl = pd.read_csv(monte_carlos/\"dataset2.csv\", low_memory=False)\n",
    "r_with_sl = pd.read_csv(monte_carlos/\"stifel_abg.csv\", low_memory=False)\n",
    "# r_with_sl = r_with_sl[r_with_sl[\"max_risk\"]>1000] ## filter out trades with max risk < 1000\n",
    "\n",
    "r_with_sl.exch_region.value_counts()"
   ]
  },
  {
   "cell_type": "markdown",
   "metadata": {},
   "source": [
    "---\n",
    "#### set which region to backtest\n"
   ]
  },
  {
   "cell_type": "code",
   "execution_count": 6,
   "metadata": {},
   "outputs": [],
   "source": [
    "df = r_with_sl[r_with_sl[\"exch_region\"] == \"Europe\"].copy(deep=True)"
   ]
  },
  {
   "cell_type": "code",
   "execution_count": 9,
   "metadata": {},
   "outputs": [],
   "source": [
    "df.keys()\n",
    "df.rename({\"entry_date\": \"d0_date\"}, axis=1, inplace=True)"
   ]
  },
  {
   "cell_type": "code",
   "execution_count": 10,
   "metadata": {},
   "outputs": [],
   "source": [
    "df['d0_date'] = pd.to_datetime(df['d0_date'])\n",
    "df[[\"year\", \"week\", \"day\"]] = df['d0_date'].dt.isocalendar()"
   ]
  },
  {
   "cell_type": "code",
   "execution_count": 11,
   "metadata": {},
   "outputs": [],
   "source": [
    "first_year = df[\"year\"].min()\n",
    "all_years = df[\"year\"]\n",
    "year_diff = all_years-first_year\n",
    "\n",
    "weeks_dict = {}\n",
    "counter = 1\n",
    "for year in range(year_diff.max()+1):\n",
    "    this_year = df[df[\"year\"] == first_year+year]\n",
    "    num_of_weeks = this_year[\"week\"].max() - this_year[\"week\"].min() + 1\n",
    "    for i in range(num_of_weeks):\n",
    "        week_num = this_year[\"week\"].min() + i\n",
    "        weeks_dict[counter] = (first_year+year, week_num)\n",
    "        counter+=1"
   ]
  },
  {
   "cell_type": "code",
   "execution_count": 15,
   "metadata": {},
   "outputs": [
    {
     "data": {
      "text/plain": [
       "262"
      ]
     },
     "execution_count": 15,
     "metadata": {},
     "output_type": "execute_result"
    }
   ],
   "source": [
    "weeks_dict.__len__()"
   ]
  },
  {
   "cell_type": "code",
   "execution_count": 16,
   "metadata": {},
   "outputs": [],
   "source": [
    "## modify this to get a nice train to test ratio for production\n",
    "training_weeks = 200\n",
    "testing_weeks = 60\n",
    "step_weeks = 6"
   ]
  },
  {
   "cell_type": "code",
   "execution_count": 17,
   "metadata": {},
   "outputs": [],
   "source": [
    "start_idx = 1 # if you do not\n",
    "train_start_year, train_start_week = weeks_dict[start_idx] \n",
    "train_end_year, train_end_week = weeks_dict[start_idx+training_weeks-1]\n",
    "test_start_year, test_start_week = weeks_dict[start_idx+training_weeks]\n",
    "test_end_year, test_end_week = weeks_dict[start_idx+training_weeks+testing_weeks-1]"
   ]
  },
  {
   "cell_type": "code",
   "execution_count": 18,
   "metadata": {},
   "outputs": [
    {
     "name": "stdout",
     "output_type": "stream",
     "text": [
      "2017 2\n",
      "2020 47\n",
      "2020 48\n",
      "2022 3\n"
     ]
    }
   ],
   "source": [
    "print(train_start_year, train_start_week)\n",
    "print(train_end_year, train_end_week)\n",
    "print(test_start_year, test_start_week)\n",
    "print(test_end_year, test_end_week)"
   ]
  },
  {
   "cell_type": "code",
   "execution_count": 19,
   "metadata": {},
   "outputs": [],
   "source": [
    "train_start_day = datetime.date.fromisocalendar(year=train_start_year, week=train_start_week, day=1)\n",
    "train_end_day = datetime.date.fromisocalendar(year=train_end_year, week=train_end_week, day=6)\n",
    "\n",
    "train_range = (df['d0_date'].dt.date>train_start_day) & (df['d0_date'].dt.date<train_end_day)\n",
    "train = df[train_range]"
   ]
  },
  {
   "cell_type": "code",
   "execution_count": 20,
   "metadata": {},
   "outputs": [],
   "source": [
    "test_start_day = datetime.date.fromisocalendar(year=test_start_year, week=test_start_week, day=1)\n",
    "test_end_day = datetime.date.fromisocalendar(year=test_end_year, week=test_end_week, day=6)\n",
    "\n",
    "test_range = (df['d0_date'].dt.date>test_start_day) & (df['d0_date'].dt.date<test_end_day)\n",
    "test = df[test_range]"
   ]
  },
  {
   "cell_type": "code",
   "execution_count": 23,
   "metadata": {},
   "outputs": [],
   "source": [
    "## set which day\n",
    "train_day_exp = 'd0_r'\n",
    "test_day_exp = 'd0_r'\n",
    "test_date = 'd0_date'"
   ]
  },
  {
   "cell_type": "code",
   "execution_count": 24,
   "metadata": {},
   "outputs": [
    {
     "name": "stdout",
     "output_type": "stream",
     "text": [
      "# of long analyst: 31\n",
      "# of short analyst: 30\n",
      "analyst that are in good in both long and short: ['Haakon Amundsen', 'Tobias Fahrenholz', 'Johan Nilsson Wall', 'Edvard Hagman', 'Oskar Vikström', 'Laurits Kjærgaard', 'Joe Sutcliffe', 'Andrew Carlsen', \"George O'Connor\", 'Christopher W. Uhde']\n",
      "-----------------------------------\n",
      "long_exp = 0.10030770605469755\n",
      "short_exp = 0.2906537889955643\n",
      "long + short exp = 0.1568764214668427\n",
      "star star analyst exp = 0.21193019446360156\n"
     ]
    }
   ],
   "source": [
    "# pivot\n",
    "table = pd.pivot_table(train, values=train_day_exp, index='analyst_pri', columns='side', aggfunc={train_day_exp:[np.count_nonzero, np.mean, np.std]})\n",
    "table.columns = ['_'.join(col) for col in table.columns.values]\n",
    "table.reset_index(inplace=True)\n",
    "\n",
    "# filter analysts\n",
    "long_anal = table[table[\"mean_long\"] >= table[\"mean_long\"].quantile(0.75)]['analyst_pri']\n",
    "short_anal = table[table[\"mean_short\"] >= table[\"mean_short\"].quantile(0.75)]['analyst_pri']\n",
    "both_side_anal = list(set(long_anal) & set(short_anal))\n",
    "print(f\"# of long analyst: {len(long_anal)}\")\n",
    "print(f\"# of short analyst: {len(short_anal)}\")\n",
    "print(f\"analyst that are in good in both long and short: {both_side_anal}\")\n",
    "# second filter\n",
    "test_long_anal = list(set(long_anal) & set(test[\"analyst_pri\"]))\n",
    "test_short_anal = list(set(short_anal) & set(test[\"analyst_pri\"]))\n",
    "both_side_anal = list(set(both_side_anal) & set(test[\"analyst_pri\"]))\n",
    "\n",
    "shld_long = (test[\"analyst_pri\"].isin(test_long_anal) & (test['side'] == 'long'))\n",
    "shld_long_exp = test[shld_long][test_day_exp].mean()\n",
    "shld_short = (test[\"analyst_pri\"].isin(test_short_anal) & (test['side'] == 'short'))\n",
    "shld_short_exp = test[shld_short][test_day_exp].mean()\n",
    "shld_both = test[\"analyst_pri\"].isin(both_side_anal)\n",
    "###\n",
    "either_long_short = test[(shld_long | shld_short)].sort_values([test_date])\n",
    "either_long_short_exp = either_long_short[test_day_exp].mean()\n",
    "either_long_short = either_long_short.groupby(either_long_short[test_date])[test_day_exp].sum()\n",
    "\n",
    "either_long_short = either_long_short.reset_index()\n",
    "either_long_short['cum_sum'] = either_long_short[test_day_exp].cumsum()\n",
    "###\n",
    "both_long_short = test[shld_both].sort_values([test_date])\n",
    "both_long_short_exp = both_long_short[test_day_exp].mean()\n",
    "both_long_short = both_long_short.groupby(both_long_short[test_date])[test_day_exp].sum()\n",
    "\n",
    "## output\n",
    "print('-----------------------------------')\n",
    "print(f\"long_exp = {shld_long_exp}\")\n",
    "print(f\"short_exp = {shld_short_exp}\")\n",
    "print(f\"long + short exp = {either_long_short_exp}\")\n",
    "print(f\"star star analyst exp = {both_long_short_exp}\")"
   ]
  },
  {
   "cell_type": "code",
   "execution_count": 25,
   "metadata": {},
   "outputs": [
    {
     "data": {
      "text/plain": [
       "False    3275\n",
       "True      148\n",
       "dtype: int64"
      ]
     },
     "execution_count": 25,
     "metadata": {},
     "output_type": "execute_result"
    }
   ],
   "source": [
    "shld_short.value_counts()"
   ]
  },
  {
   "cell_type": "code",
   "execution_count": 27,
   "metadata": {},
   "outputs": [
    {
     "data": {
      "application/vnd.plotly.v1+json": {
       "config": {
        "plotlyServerURL": "https://plot.ly"
       },
       "data": [
        {
         "hovertemplate": "d0_date=%{x}<br>cum_sum=%{y}<extra></extra>",
         "legendgroup": "",
         "line": {
          "color": "#636efa",
          "dash": "solid"
         },
         "marker": {
          "symbol": "circle"
         },
         "mode": "lines",
         "name": "",
         "orientation": "v",
         "showlegend": false,
         "type": "scatter",
         "x": [
          "2020-11-24T00:00:00",
          "2020-11-25T00:00:00",
          "2020-11-26T00:00:00",
          "2020-11-30T00:00:00",
          "2020-12-03T00:00:00",
          "2020-12-09T00:00:00",
          "2020-12-11T00:00:00",
          "2020-12-14T00:00:00",
          "2020-12-15T00:00:00",
          "2020-12-17T00:00:00",
          "2020-12-18T00:00:00",
          "2020-12-21T00:00:00",
          "2020-12-22T00:00:00",
          "2020-12-23T00:00:00",
          "2020-12-24T00:00:00",
          "2021-01-05T00:00:00",
          "2021-01-06T00:00:00",
          "2021-01-07T00:00:00",
          "2021-01-08T00:00:00",
          "2021-01-11T00:00:00",
          "2021-01-12T00:00:00",
          "2021-01-14T00:00:00",
          "2021-01-15T00:00:00",
          "2021-01-18T00:00:00",
          "2021-01-19T00:00:00",
          "2021-01-20T00:00:00",
          "2021-01-21T00:00:00",
          "2021-01-22T00:00:00",
          "2021-01-25T00:00:00",
          "2021-01-26T00:00:00",
          "2021-01-28T00:00:00",
          "2021-01-29T00:00:00",
          "2021-02-01T00:00:00",
          "2021-02-02T00:00:00",
          "2021-02-03T00:00:00",
          "2021-02-04T00:00:00",
          "2021-02-05T00:00:00",
          "2021-02-08T00:00:00",
          "2021-02-09T00:00:00",
          "2021-02-10T00:00:00",
          "2021-02-11T00:00:00",
          "2021-02-12T00:00:00",
          "2021-02-15T00:00:00",
          "2021-02-18T00:00:00",
          "2021-02-19T00:00:00",
          "2021-02-22T00:00:00",
          "2021-02-23T00:00:00",
          "2021-02-24T00:00:00",
          "2021-02-25T00:00:00",
          "2021-02-26T00:00:00",
          "2021-03-01T00:00:00",
          "2021-03-02T00:00:00",
          "2021-03-03T00:00:00",
          "2021-03-04T00:00:00",
          "2021-03-05T00:00:00",
          "2021-03-08T00:00:00",
          "2021-03-09T00:00:00",
          "2021-03-10T00:00:00",
          "2021-03-11T00:00:00",
          "2021-03-12T00:00:00",
          "2021-03-15T00:00:00",
          "2021-03-16T00:00:00",
          "2021-03-17T00:00:00",
          "2021-03-18T00:00:00",
          "2021-03-19T00:00:00",
          "2021-03-22T00:00:00",
          "2021-03-23T00:00:00",
          "2021-03-24T00:00:00",
          "2021-03-26T00:00:00",
          "2021-03-29T00:00:00",
          "2021-03-30T00:00:00",
          "2021-03-31T00:00:00",
          "2021-04-01T00:00:00",
          "2021-04-08T00:00:00",
          "2021-04-09T00:00:00",
          "2021-04-12T00:00:00",
          "2021-04-13T00:00:00",
          "2021-04-14T00:00:00",
          "2021-04-15T00:00:00",
          "2021-04-16T00:00:00",
          "2021-04-19T00:00:00",
          "2021-04-20T00:00:00",
          "2021-04-21T00:00:00",
          "2021-04-22T00:00:00",
          "2021-04-23T00:00:00",
          "2021-04-26T00:00:00",
          "2021-04-27T00:00:00",
          "2021-04-28T00:00:00",
          "2021-04-29T00:00:00",
          "2021-04-30T00:00:00",
          "2021-05-03T00:00:00",
          "2021-05-04T00:00:00",
          "2021-05-05T00:00:00",
          "2021-05-06T00:00:00",
          "2021-05-07T00:00:00",
          "2021-05-10T00:00:00",
          "2021-05-11T00:00:00",
          "2021-05-12T00:00:00",
          "2021-05-14T00:00:00",
          "2021-05-18T00:00:00",
          "2021-05-19T00:00:00",
          "2021-05-20T00:00:00",
          "2021-05-21T00:00:00",
          "2021-05-24T00:00:00",
          "2021-05-27T00:00:00",
          "2021-05-28T00:00:00",
          "2021-06-01T00:00:00",
          "2021-06-02T00:00:00",
          "2021-06-03T00:00:00",
          "2021-06-07T00:00:00",
          "2021-06-08T00:00:00",
          "2021-06-10T00:00:00",
          "2021-06-11T00:00:00",
          "2021-06-14T00:00:00",
          "2021-06-15T00:00:00",
          "2021-06-17T00:00:00",
          "2021-06-18T00:00:00",
          "2021-06-21T00:00:00",
          "2021-06-22T00:00:00",
          "2021-06-25T00:00:00",
          "2021-06-28T00:00:00",
          "2021-06-29T00:00:00",
          "2021-06-30T00:00:00",
          "2021-07-01T00:00:00",
          "2021-07-02T00:00:00",
          "2021-07-05T00:00:00",
          "2021-07-06T00:00:00",
          "2021-07-07T00:00:00",
          "2021-07-08T00:00:00",
          "2021-07-09T00:00:00",
          "2021-07-12T00:00:00",
          "2021-07-13T00:00:00",
          "2021-07-14T00:00:00",
          "2021-07-15T00:00:00",
          "2021-07-19T00:00:00",
          "2021-07-20T00:00:00",
          "2021-07-21T00:00:00",
          "2021-07-22T00:00:00",
          "2021-07-23T00:00:00",
          "2021-07-26T00:00:00",
          "2021-07-27T00:00:00",
          "2021-07-28T00:00:00",
          "2021-07-29T00:00:00",
          "2021-07-30T00:00:00",
          "2021-08-03T00:00:00",
          "2021-08-05T00:00:00",
          "2021-08-06T00:00:00",
          "2021-08-09T00:00:00",
          "2021-08-10T00:00:00",
          "2021-08-11T00:00:00",
          "2021-08-12T00:00:00",
          "2021-08-13T00:00:00",
          "2021-08-16T00:00:00",
          "2021-08-17T00:00:00",
          "2021-08-18T00:00:00",
          "2021-08-19T00:00:00",
          "2021-08-20T00:00:00",
          "2021-08-24T00:00:00",
          "2021-08-25T00:00:00",
          "2021-08-26T00:00:00",
          "2021-08-27T00:00:00",
          "2021-09-01T00:00:00",
          "2021-09-02T00:00:00",
          "2021-09-03T00:00:00",
          "2021-09-06T00:00:00",
          "2021-09-08T00:00:00",
          "2021-09-09T00:00:00",
          "2021-09-10T00:00:00",
          "2021-09-14T00:00:00",
          "2021-09-15T00:00:00",
          "2021-09-16T00:00:00",
          "2021-09-21T00:00:00",
          "2021-09-23T00:00:00",
          "2021-09-24T00:00:00",
          "2021-09-30T00:00:00",
          "2021-10-01T00:00:00",
          "2021-10-04T00:00:00",
          "2021-10-05T00:00:00",
          "2021-10-06T00:00:00",
          "2021-10-07T00:00:00",
          "2021-10-08T00:00:00",
          "2021-10-13T00:00:00",
          "2021-10-15T00:00:00",
          "2021-10-18T00:00:00",
          "2021-10-19T00:00:00",
          "2021-10-20T00:00:00",
          "2021-10-21T00:00:00",
          "2021-10-25T00:00:00",
          "2021-10-26T00:00:00",
          "2021-10-27T00:00:00",
          "2021-10-28T00:00:00",
          "2021-10-29T00:00:00",
          "2021-11-01T00:00:00",
          "2021-11-02T00:00:00",
          "2021-11-03T00:00:00",
          "2021-11-04T00:00:00",
          "2021-11-05T00:00:00",
          "2021-11-08T00:00:00",
          "2021-11-09T00:00:00",
          "2021-11-10T00:00:00",
          "2021-11-11T00:00:00",
          "2021-11-12T00:00:00",
          "2021-11-15T00:00:00",
          "2021-11-16T00:00:00",
          "2021-11-17T00:00:00",
          "2021-11-18T00:00:00",
          "2021-11-19T00:00:00",
          "2021-11-22T00:00:00",
          "2021-11-23T00:00:00",
          "2021-11-24T00:00:00",
          "2021-11-26T00:00:00",
          "2021-11-29T00:00:00",
          "2021-11-30T00:00:00",
          "2021-12-01T00:00:00",
          "2021-12-03T00:00:00",
          "2021-12-06T00:00:00",
          "2021-12-07T00:00:00",
          "2021-12-08T00:00:00",
          "2021-12-09T00:00:00",
          "2021-12-10T00:00:00",
          "2021-12-15T00:00:00",
          "2021-12-20T00:00:00",
          "2021-12-21T00:00:00",
          "2021-12-22T00:00:00",
          "2022-01-07T00:00:00",
          "2022-01-10T00:00:00",
          "2022-01-13T00:00:00",
          "2022-01-17T00:00:00",
          "2022-01-19T00:00:00",
          "2022-01-21T00:00:00"
         ],
         "xaxis": "x",
         "y": [
          0.2038043478260873,
          0.3876305543878432,
          1.7342639708466963,
          1.1655879455232734,
          5.368180649774102,
          6.069666227017456,
          5.741132340360934,
          6.03985211276492,
          5.039852112764919,
          5.63307245174797,
          4.557544544974991,
          7.080552453220841,
          6.080552453220841,
          5.682542502972085,
          6.04568977936751,
          6.996533870727986,
          5.996533870727985,
          6.543408870727983,
          6.569828949988221,
          8.018657556646666,
          7.3568928507643125,
          8.63890309660215,
          8.336744823220863,
          10.745182556375536,
          10.944518104548294,
          11.400658455425486,
          12.153580904649221,
          9.655652456120654,
          7.655652456120654,
          8.675627487331644,
          8.463067100858213,
          9.607047068556177,
          10.227691287396796,
          10.501663890136527,
          8.668330556803195,
          11.804027895344689,
          11.5096867833724,
          10.226478763322277,
          11.372475623604855,
          10.315871850019949,
          12.061299893789524,
          13.625545703845386,
          14.654375793778947,
          15.561685140273296,
          19.899920434390943,
          20.864760075401662,
          19.73019364064857,
          20.137228816527962,
          20.54180609575705,
          21.49852338995575,
          21.273717188405357,
          20.57101181000466,
          23.474395020996567,
          24.59472487017737,
          23.037233580978764,
          23.613402022834595,
          23.341601343332897,
          25.063607807636913,
          25.56612037045098,
          24.589683047171054,
          23.589683047171057,
          24.210127542809932,
          24.441491563590407,
          21.44149156359041,
          23.14361922316488,
          23.408410028172632,
          24.146995622593465,
          23.146995622593465,
          24.75831070937584,
          24.6732766957704,
          24.23377307632883,
          24.524223351232322,
          25.109018672869748,
          25.015908803223567,
          26.988248283339097,
          26.909557503713735,
          28.025973568284456,
          28.555568583860783,
          29.120003802681055,
          35.28655976004259,
          33.04849721668148,
          32.75051046345177,
          32.39222169339829,
          31.978655187113084,
          31.870060230859867,
          32.775572041883485,
          34.765635275849164,
          34.28393970744839,
          31.312485959720156,
          28.875239378853024,
          29.344722946928147,
          27.344722946928144,
          28.871898820049626,
          32.02506287437699,
          30.654301964832438,
          31.588338904146422,
          31.079767475574993,
          30.079767475574993,
          29.737716882882825,
          29.698378952427408,
          30.05226897626125,
          32.09647817097479,
          33.33881159031939,
          32.32513169975851,
          37.138754795744646,
          36.138754795744646,
          38.18828193312169,
          37.80201583870109,
          37.50126395900184,
          37.0435174801286,
          36.0435174801286,
          36.77881159777566,
          36.32343819158258,
          37.46567830441093,
          36.662528698111714,
          36.20612922251836,
          35.639327603085164,
          35.715085178842735,
          35.426666972443456,
          35.426666972443456,
          35.23072639888776,
          37.60482711831222,
          38.49267758560194,
          40.91806377038772,
          40.356094410035816,
          39.356094410035816,
          40.13534610074292,
          39.931264468089864,
          39.74008799750163,
          40.103006210226866,
          40.68193641244474,
          41.000880544116335,
          42.30724075712077,
          45.302136208560746,
          45.22161079451163,
          45.38355411434969,
          45.56516330975199,
          45.504276762468834,
          44.6625225393474,
          50.0987375111661,
          50.31955770044055,
          54.413979758010925,
          54.17913522092563,
          52.45583568940692,
          51.45583568940692,
          54.76696939555842,
          55.223309519156494,
          54.94029065123197,
          55.092729675622216,
          58.3438183006653,
          59.825716720410554,
          58.852067181543624,
          58.13852551487696,
          57.1985648849557,
          56.19856488495571,
          52.96412227673112,
          54.35485075355231,
          55.1685493836893,
          56.21375192256781,
          57.51581141913532,
          57.527744593359664,
          56.77777405017597,
          54.77777405017597,
          53.77777405017597,
          54.2063454787474,
          54.84431080980736,
          55.0581456999866,
          54.0581456999866,
          53.31359741338225,
          56.76307495553337,
          59.453340442259034,
          60.054433338433896,
          60.42928218970354,
          60.54624125403103,
          58.15165456550539,
          59.020655862522254,
          59.38993208113378,
          60.08760649973843,
          59.08760649973843,
          60.1364142856265,
          60.18583767936621,
          63.93565173571457,
          64.54184672519258,
          63.541846725192585,
          62.76560818128066,
          61.6799439064131,
          62.106315208114445,
          62.70333013348758,
          61.70333013348758,
          63.29761049269008,
          61.29761049269008,
          64.83628378808255,
          67.46929219863226,
          67.88451711212707,
          67.22059946792949,
          65.78778118081082,
          69.25135130831538,
          67.6524567202633,
          67.28057990445853,
          66.28057990445853,
          65.04791404021373,
          65.0200879532572,
          64.451702649151,
          64.15269932689186,
          63.506865993558534,
          63.70264912608865,
          64.34618297339513,
          64.23469069209153,
          64.29033531467002,
          65.38928327065815,
          67.91206986530104,
          68.2692127224439,
          68.2692127224439,
          69.13047091591905,
          68.94865273410086,
          68.36041743998321,
          68.91432446273296,
          69.5113393881061,
          70.05187992864664,
          69.80797346091323,
          70.89424972376527,
          70.89424972376527,
          73.1701117927308,
          73.56783906545806,
          72.56783906545806,
          76.86288621829083,
          77.0818812017917,
          77.82693358828763,
          77.72479802654205,
          78.12445789048762
         ],
         "yaxis": "y"
        }
       ],
       "layout": {
        "legend": {
         "tracegroupgap": 0
        },
        "template": {
         "data": {
          "bar": [
           {
            "error_x": {
             "color": "#2a3f5f"
            },
            "error_y": {
             "color": "#2a3f5f"
            },
            "marker": {
             "line": {
              "color": "#E5ECF6",
              "width": 0.5
             },
             "pattern": {
              "fillmode": "overlay",
              "size": 10,
              "solidity": 0.2
             }
            },
            "type": "bar"
           }
          ],
          "barpolar": [
           {
            "marker": {
             "line": {
              "color": "#E5ECF6",
              "width": 0.5
             },
             "pattern": {
              "fillmode": "overlay",
              "size": 10,
              "solidity": 0.2
             }
            },
            "type": "barpolar"
           }
          ],
          "carpet": [
           {
            "aaxis": {
             "endlinecolor": "#2a3f5f",
             "gridcolor": "white",
             "linecolor": "white",
             "minorgridcolor": "white",
             "startlinecolor": "#2a3f5f"
            },
            "baxis": {
             "endlinecolor": "#2a3f5f",
             "gridcolor": "white",
             "linecolor": "white",
             "minorgridcolor": "white",
             "startlinecolor": "#2a3f5f"
            },
            "type": "carpet"
           }
          ],
          "choropleth": [
           {
            "colorbar": {
             "outlinewidth": 0,
             "ticks": ""
            },
            "type": "choropleth"
           }
          ],
          "contour": [
           {
            "colorbar": {
             "outlinewidth": 0,
             "ticks": ""
            },
            "colorscale": [
             [
              0,
              "#0d0887"
             ],
             [
              0.1111111111111111,
              "#46039f"
             ],
             [
              0.2222222222222222,
              "#7201a8"
             ],
             [
              0.3333333333333333,
              "#9c179e"
             ],
             [
              0.4444444444444444,
              "#bd3786"
             ],
             [
              0.5555555555555556,
              "#d8576b"
             ],
             [
              0.6666666666666666,
              "#ed7953"
             ],
             [
              0.7777777777777778,
              "#fb9f3a"
             ],
             [
              0.8888888888888888,
              "#fdca26"
             ],
             [
              1,
              "#f0f921"
             ]
            ],
            "type": "contour"
           }
          ],
          "contourcarpet": [
           {
            "colorbar": {
             "outlinewidth": 0,
             "ticks": ""
            },
            "type": "contourcarpet"
           }
          ],
          "heatmap": [
           {
            "colorbar": {
             "outlinewidth": 0,
             "ticks": ""
            },
            "colorscale": [
             [
              0,
              "#0d0887"
             ],
             [
              0.1111111111111111,
              "#46039f"
             ],
             [
              0.2222222222222222,
              "#7201a8"
             ],
             [
              0.3333333333333333,
              "#9c179e"
             ],
             [
              0.4444444444444444,
              "#bd3786"
             ],
             [
              0.5555555555555556,
              "#d8576b"
             ],
             [
              0.6666666666666666,
              "#ed7953"
             ],
             [
              0.7777777777777778,
              "#fb9f3a"
             ],
             [
              0.8888888888888888,
              "#fdca26"
             ],
             [
              1,
              "#f0f921"
             ]
            ],
            "type": "heatmap"
           }
          ],
          "heatmapgl": [
           {
            "colorbar": {
             "outlinewidth": 0,
             "ticks": ""
            },
            "colorscale": [
             [
              0,
              "#0d0887"
             ],
             [
              0.1111111111111111,
              "#46039f"
             ],
             [
              0.2222222222222222,
              "#7201a8"
             ],
             [
              0.3333333333333333,
              "#9c179e"
             ],
             [
              0.4444444444444444,
              "#bd3786"
             ],
             [
              0.5555555555555556,
              "#d8576b"
             ],
             [
              0.6666666666666666,
              "#ed7953"
             ],
             [
              0.7777777777777778,
              "#fb9f3a"
             ],
             [
              0.8888888888888888,
              "#fdca26"
             ],
             [
              1,
              "#f0f921"
             ]
            ],
            "type": "heatmapgl"
           }
          ],
          "histogram": [
           {
            "marker": {
             "pattern": {
              "fillmode": "overlay",
              "size": 10,
              "solidity": 0.2
             }
            },
            "type": "histogram"
           }
          ],
          "histogram2d": [
           {
            "colorbar": {
             "outlinewidth": 0,
             "ticks": ""
            },
            "colorscale": [
             [
              0,
              "#0d0887"
             ],
             [
              0.1111111111111111,
              "#46039f"
             ],
             [
              0.2222222222222222,
              "#7201a8"
             ],
             [
              0.3333333333333333,
              "#9c179e"
             ],
             [
              0.4444444444444444,
              "#bd3786"
             ],
             [
              0.5555555555555556,
              "#d8576b"
             ],
             [
              0.6666666666666666,
              "#ed7953"
             ],
             [
              0.7777777777777778,
              "#fb9f3a"
             ],
             [
              0.8888888888888888,
              "#fdca26"
             ],
             [
              1,
              "#f0f921"
             ]
            ],
            "type": "histogram2d"
           }
          ],
          "histogram2dcontour": [
           {
            "colorbar": {
             "outlinewidth": 0,
             "ticks": ""
            },
            "colorscale": [
             [
              0,
              "#0d0887"
             ],
             [
              0.1111111111111111,
              "#46039f"
             ],
             [
              0.2222222222222222,
              "#7201a8"
             ],
             [
              0.3333333333333333,
              "#9c179e"
             ],
             [
              0.4444444444444444,
              "#bd3786"
             ],
             [
              0.5555555555555556,
              "#d8576b"
             ],
             [
              0.6666666666666666,
              "#ed7953"
             ],
             [
              0.7777777777777778,
              "#fb9f3a"
             ],
             [
              0.8888888888888888,
              "#fdca26"
             ],
             [
              1,
              "#f0f921"
             ]
            ],
            "type": "histogram2dcontour"
           }
          ],
          "mesh3d": [
           {
            "colorbar": {
             "outlinewidth": 0,
             "ticks": ""
            },
            "type": "mesh3d"
           }
          ],
          "parcoords": [
           {
            "line": {
             "colorbar": {
              "outlinewidth": 0,
              "ticks": ""
             }
            },
            "type": "parcoords"
           }
          ],
          "pie": [
           {
            "automargin": true,
            "type": "pie"
           }
          ],
          "scatter": [
           {
            "marker": {
             "colorbar": {
              "outlinewidth": 0,
              "ticks": ""
             }
            },
            "type": "scatter"
           }
          ],
          "scatter3d": [
           {
            "line": {
             "colorbar": {
              "outlinewidth": 0,
              "ticks": ""
             }
            },
            "marker": {
             "colorbar": {
              "outlinewidth": 0,
              "ticks": ""
             }
            },
            "type": "scatter3d"
           }
          ],
          "scattercarpet": [
           {
            "marker": {
             "colorbar": {
              "outlinewidth": 0,
              "ticks": ""
             }
            },
            "type": "scattercarpet"
           }
          ],
          "scattergeo": [
           {
            "marker": {
             "colorbar": {
              "outlinewidth": 0,
              "ticks": ""
             }
            },
            "type": "scattergeo"
           }
          ],
          "scattergl": [
           {
            "marker": {
             "colorbar": {
              "outlinewidth": 0,
              "ticks": ""
             }
            },
            "type": "scattergl"
           }
          ],
          "scattermapbox": [
           {
            "marker": {
             "colorbar": {
              "outlinewidth": 0,
              "ticks": ""
             }
            },
            "type": "scattermapbox"
           }
          ],
          "scatterpolar": [
           {
            "marker": {
             "colorbar": {
              "outlinewidth": 0,
              "ticks": ""
             }
            },
            "type": "scatterpolar"
           }
          ],
          "scatterpolargl": [
           {
            "marker": {
             "colorbar": {
              "outlinewidth": 0,
              "ticks": ""
             }
            },
            "type": "scatterpolargl"
           }
          ],
          "scatterternary": [
           {
            "marker": {
             "colorbar": {
              "outlinewidth": 0,
              "ticks": ""
             }
            },
            "type": "scatterternary"
           }
          ],
          "surface": [
           {
            "colorbar": {
             "outlinewidth": 0,
             "ticks": ""
            },
            "colorscale": [
             [
              0,
              "#0d0887"
             ],
             [
              0.1111111111111111,
              "#46039f"
             ],
             [
              0.2222222222222222,
              "#7201a8"
             ],
             [
              0.3333333333333333,
              "#9c179e"
             ],
             [
              0.4444444444444444,
              "#bd3786"
             ],
             [
              0.5555555555555556,
              "#d8576b"
             ],
             [
              0.6666666666666666,
              "#ed7953"
             ],
             [
              0.7777777777777778,
              "#fb9f3a"
             ],
             [
              0.8888888888888888,
              "#fdca26"
             ],
             [
              1,
              "#f0f921"
             ]
            ],
            "type": "surface"
           }
          ],
          "table": [
           {
            "cells": {
             "fill": {
              "color": "#EBF0F8"
             },
             "line": {
              "color": "white"
             }
            },
            "header": {
             "fill": {
              "color": "#C8D4E3"
             },
             "line": {
              "color": "white"
             }
            },
            "type": "table"
           }
          ]
         },
         "layout": {
          "annotationdefaults": {
           "arrowcolor": "#2a3f5f",
           "arrowhead": 0,
           "arrowwidth": 1
          },
          "autotypenumbers": "strict",
          "coloraxis": {
           "colorbar": {
            "outlinewidth": 0,
            "ticks": ""
           }
          },
          "colorscale": {
           "diverging": [
            [
             0,
             "#8e0152"
            ],
            [
             0.1,
             "#c51b7d"
            ],
            [
             0.2,
             "#de77ae"
            ],
            [
             0.3,
             "#f1b6da"
            ],
            [
             0.4,
             "#fde0ef"
            ],
            [
             0.5,
             "#f7f7f7"
            ],
            [
             0.6,
             "#e6f5d0"
            ],
            [
             0.7,
             "#b8e186"
            ],
            [
             0.8,
             "#7fbc41"
            ],
            [
             0.9,
             "#4d9221"
            ],
            [
             1,
             "#276419"
            ]
           ],
           "sequential": [
            [
             0,
             "#0d0887"
            ],
            [
             0.1111111111111111,
             "#46039f"
            ],
            [
             0.2222222222222222,
             "#7201a8"
            ],
            [
             0.3333333333333333,
             "#9c179e"
            ],
            [
             0.4444444444444444,
             "#bd3786"
            ],
            [
             0.5555555555555556,
             "#d8576b"
            ],
            [
             0.6666666666666666,
             "#ed7953"
            ],
            [
             0.7777777777777778,
             "#fb9f3a"
            ],
            [
             0.8888888888888888,
             "#fdca26"
            ],
            [
             1,
             "#f0f921"
            ]
           ],
           "sequentialminus": [
            [
             0,
             "#0d0887"
            ],
            [
             0.1111111111111111,
             "#46039f"
            ],
            [
             0.2222222222222222,
             "#7201a8"
            ],
            [
             0.3333333333333333,
             "#9c179e"
            ],
            [
             0.4444444444444444,
             "#bd3786"
            ],
            [
             0.5555555555555556,
             "#d8576b"
            ],
            [
             0.6666666666666666,
             "#ed7953"
            ],
            [
             0.7777777777777778,
             "#fb9f3a"
            ],
            [
             0.8888888888888888,
             "#fdca26"
            ],
            [
             1,
             "#f0f921"
            ]
           ]
          },
          "colorway": [
           "#636efa",
           "#EF553B",
           "#00cc96",
           "#ab63fa",
           "#FFA15A",
           "#19d3f3",
           "#FF6692",
           "#B6E880",
           "#FF97FF",
           "#FECB52"
          ],
          "font": {
           "color": "#2a3f5f"
          },
          "geo": {
           "bgcolor": "white",
           "lakecolor": "white",
           "landcolor": "#E5ECF6",
           "showlakes": true,
           "showland": true,
           "subunitcolor": "white"
          },
          "hoverlabel": {
           "align": "left"
          },
          "hovermode": "closest",
          "mapbox": {
           "style": "light"
          },
          "paper_bgcolor": "white",
          "plot_bgcolor": "#E5ECF6",
          "polar": {
           "angularaxis": {
            "gridcolor": "white",
            "linecolor": "white",
            "ticks": ""
           },
           "bgcolor": "#E5ECF6",
           "radialaxis": {
            "gridcolor": "white",
            "linecolor": "white",
            "ticks": ""
           }
          },
          "scene": {
           "xaxis": {
            "backgroundcolor": "#E5ECF6",
            "gridcolor": "white",
            "gridwidth": 2,
            "linecolor": "white",
            "showbackground": true,
            "ticks": "",
            "zerolinecolor": "white"
           },
           "yaxis": {
            "backgroundcolor": "#E5ECF6",
            "gridcolor": "white",
            "gridwidth": 2,
            "linecolor": "white",
            "showbackground": true,
            "ticks": "",
            "zerolinecolor": "white"
           },
           "zaxis": {
            "backgroundcolor": "#E5ECF6",
            "gridcolor": "white",
            "gridwidth": 2,
            "linecolor": "white",
            "showbackground": true,
            "ticks": "",
            "zerolinecolor": "white"
           }
          },
          "shapedefaults": {
           "line": {
            "color": "#2a3f5f"
           }
          },
          "ternary": {
           "aaxis": {
            "gridcolor": "white",
            "linecolor": "white",
            "ticks": ""
           },
           "baxis": {
            "gridcolor": "white",
            "linecolor": "white",
            "ticks": ""
           },
           "bgcolor": "#E5ECF6",
           "caxis": {
            "gridcolor": "white",
            "linecolor": "white",
            "ticks": ""
           }
          },
          "title": {
           "x": 0.05
          },
          "xaxis": {
           "automargin": true,
           "gridcolor": "white",
           "linecolor": "white",
           "ticks": "",
           "title": {
            "standoff": 15
           },
           "zerolinecolor": "white",
           "zerolinewidth": 2
          },
          "yaxis": {
           "automargin": true,
           "gridcolor": "white",
           "linecolor": "white",
           "ticks": "",
           "title": {
            "standoff": 15
           },
           "zerolinecolor": "white",
           "zerolinewidth": 2
          }
         }
        },
        "title": {
         "text": ".75Q (long OR short) || [train:d0_r | test:d0_r]"
        },
        "xaxis": {
         "anchor": "y",
         "domain": [
          0,
          1
         ],
         "title": {
          "text": "d0_date"
         }
        },
        "yaxis": {
         "anchor": "x",
         "domain": [
          0,
          1
         ],
         "title": {
          "text": "cum_sum"
         }
        }
       }
      }
     },
     "metadata": {},
     "output_type": "display_data"
    }
   ],
   "source": [
    "long_or_short = px.line(data_frame=either_long_short, x = test_date, y = 'cum_sum', title=f'.75Q (long OR short) || [train:{train_day} | test:{test_day}]')\n",
    "long_or_short.show()"
   ]
  },
  {
   "cell_type": "code",
   "execution_count": 224,
   "metadata": {},
   "outputs": [
    {
     "data": {
      "text/plain": [
       "0.45828747526864416"
      ]
     },
     "execution_count": 224,
     "metadata": {},
     "output_type": "execute_result"
    }
   ],
   "source": [
    "either_long_short_exp"
   ]
  }
 ],
 "metadata": {
  "interpreter": {
   "hash": "2f8ce063f53eb362418389705aa5fc6552ba92aa03ad46781761a28e20600cbd"
  },
  "kernelspec": {
   "display_name": "Python 3 (ipykernel)",
   "language": "python",
   "name": "python3"
  },
  "language_info": {
   "codemirror_mode": {
    "name": "ipython",
    "version": 3
   },
   "file_extension": ".py",
   "mimetype": "text/x-python",
   "name": "python",
   "nbconvert_exporter": "python",
   "pygments_lexer": "ipython3",
   "version": "3.9.7"
  }
 },
 "nbformat": 4,
 "nbformat_minor": 4
}
