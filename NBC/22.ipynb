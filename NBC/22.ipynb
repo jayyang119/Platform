{
 "cells": [
  {
   "cell_type": "code",
   "execution_count": 69,
   "id": "84117bd5",
   "metadata": {},
   "outputs": [],
   "source": [
    "import pandas as pd\n",
    "from selenium import webdriver\n",
    "import pandas as pd\n",
    "import numpy as np\n",
    "import pickle\n",
    "import itertools\n",
    "\n",
    "from collections import defaultdict\n",
    "\n",
    "\n",
    "import datetime\n",
    "from bs4 import BeautifulSoup\n",
    "import re\n",
    "import time\n",
    "from datetime import datetime\n",
    "\n",
    "from library import Dataset\n",
    "from Database import update_sentiment\n",
    "from Crawler.settings import REPORT_TYPE_MAPPING\n",
    "from uti import UrlManager, Logger, By, DataLoader\n",
    "\n",
    "DL = DataLoader()\n",
    "UM = UrlManager()\n",
    "logger = Logger()"
   ]
  },
  {
   "cell_type": "code",
   "execution_count": 3,
   "id": "f4d06da6-6b68-41a1-a633-46f25fe71155",
   "metadata": {},
   "outputs": [],
   "source": [
    "\n",
    "# warnings.filterwarnings(\"ignore\")\n",
    "# from xbbg import blp\n",
    "\n"
   ]
  },
  {
   "cell_type": "code",
   "execution_count": 317,
   "id": "e002175a",
   "metadata": {},
   "outputs": [],
   "source": [
    "from Database.report_type import rc_filter, er_filter, io_filter, ec_filter"
   ]
  },
  {
   "cell_type": "code",
   "execution_count": 4,
   "id": "8a3d1161-5eac-4682-aa9c-a0ad0c123da4",
   "metadata": {},
   "outputs": [
    {
     "name": "stderr",
     "output_type": "stream",
     "text": [
      "\n",
      "\n",
      "2022-05-25 19:06:31,014 P[19996] [MainThread 12952] \n",
      "\n",
      "====== WebDriver manager ======\n",
      "2022-05-25 19:06:31,015 P[19996] [MainThread 12952] ====== WebDriver manager ======\n",
      "Current google-chrome version is 101.0.4951\n",
      "2022-05-25 19:06:31,031 P[19996] [MainThread 12952] Current google-chrome version is 101.0.4951\n",
      "Get LATEST chromedriver version for 101.0.4951 google-chrome\n",
      "2022-05-25 19:06:31,032 P[19996] [MainThread 12952] Get LATEST chromedriver version for 101.0.4951 google-chrome\n",
      "Driver [C:\\Users\\JayYang\\.wdm\\drivers\\chromedriver\\win32\\101.0.4951.41\\chromedriver.exe] found in cache\n",
      "2022-05-25 19:06:31,096 P[19996] [MainThread 12952] Driver [C:\\Users\\JayYang\\.wdm\\drivers\\chromedriver\\win32\\101.0.4951.41\\chromedriver.exe] found in cache\n"
     ]
    },
    {
     "name": "stdout",
     "output_type": "stream",
     "text": [
      "19:06:31 C:/Users/JayYang/OneDrive - Alpha Sherpa Capital/Database/NBC\\Log/20220525/20220525190434.txt created.\n",
      "19:06:31 Starting Browser\n"
     ]
    }
   ],
   "source": [
    "driver = UM.start_browser()"
   ]
  },
  {
   "cell_type": "code",
   "execution_count": 24,
   "id": "16e86c2b",
   "metadata": {},
   "outputs": [
    {
     "name": "stdout",
     "output_type": "stream",
     "text": [
      "16:08:55: Accessing url... 16:08:58 Success. Idle for 5 seconds...\n"
     ]
    }
   ],
   "source": [
    "UM.get_url(driver, 'https://nbf-library.bluematrix.com/client/library.jsp')"
   ]
  },
  {
   "cell_type": "code",
   "execution_count": 8,
   "id": "74d49420",
   "metadata": {},
   "outputs": [],
   "source": [
    "import pdb"
   ]
  },
  {
   "cell_type": "code",
   "execution_count": 22,
   "id": "947e3608",
   "metadata": {
    "scrolled": true
   },
   "outputs": [],
   "source": [
    "def nbc_login(driver, need_un=True):\n",
    "    username = 'donnert@a-s-capital.com'\n",
    "    password ='Pass4321?'\n",
    "    login_form = driver.find_elements(By.XPATH, f'//input[@class=\"form-control\"]')\n",
    "#     pdb.set_trace()\n",
    "    \n",
    "    if len(login_form) > 0:\n",
    "        login_form_username = login_form[0]\n",
    "        login_form_password = login_form[1]\n",
    "        \n",
    "        if need_un is True:\n",
    "            login_form_username.send_keys(username)\n",
    "            login_form_password.send_keys(password)\n",
    "    \n",
    "    UM.navigate(driver, xpath=f'//div/input[@type=\"submit\"]', move=True, click=True)\n",
    "    \n",
    "nbc_login(driver)"
   ]
  },
  {
   "cell_type": "code",
   "execution_count": null,
   "id": "66a9752a",
   "metadata": {},
   "outputs": [],
   "source": []
  },
  {
   "cell_type": "code",
   "execution_count": null,
   "id": "faf2b666",
   "metadata": {},
   "outputs": [],
   "source": []
  },
  {
   "cell_type": "code",
   "execution_count": null,
   "id": "6a525fa3",
   "metadata": {},
   "outputs": [],
   "source": []
  },
  {
   "cell_type": "code",
   "execution_count": 29,
   "id": "d01f6e03",
   "metadata": {},
   "outputs": [],
   "source": []
  },
  {
   "cell_type": "markdown",
   "id": "462ca562",
   "metadata": {},
   "source": [
    "## Search: Date range:"
   ]
  },
  {
   "cell_type": "code",
   "execution_count": 59,
   "id": "871aee1a-15e2-4d2a-aaf4-c48b0044b1e9",
   "metadata": {},
   "outputs": [],
   "source": [
    "last_date = 'May 18 2022'\n",
    "\n",
    "first_tab = driver.window_handles[0]\n",
    "driver.switch_to.window(first_tab)\n",
    "\n",
    "type_lst = ['Research Flash']\n",
    "result = defaultdict(list)\n",
    "flag = False\n",
    "\n",
    "# Need to get page length:\n",
    "last_page_button = driver.find_elements(By.XPATH, '//li[@class=\"paginate_button page-item \"]')[-1]\n",
    "total_pages = int(last_page_button.text)\n",
    "\n",
    "for i in range(total_pages-1):\n",
    "    content = UM.navigate(driver, xpath='//table[@id=\"searchDetails\"]')\n",
    "    trs = content.find_elements(By.XPATH, '//tr[@role=\"row\"]')[1:]\n",
    "\n",
    "    for tr in trs:\n",
    "        tr_soup = BeautifulSoup(tr.get_attribute('innerHTML'), 'html.parser')\n",
    "        tds = tr_soup.find_all('td')\n",
    "\n",
    "\n",
    "        result['headline'].append(tds[0].find('a').text)\n",
    "        result['url'].append(tds[0].find('a')['href'])\n",
    "        result['ticker'].append(tds[1].find('a').text)\n",
    "        result['analyst_pri'].append(tds[2].find('a').text)\n",
    "        result['broker_label'].append(tds[3].text.strip('\\n').strip())\n",
    "        result['time'].append(tds[4].text.strip('\\n').strip())\n",
    "#     pdb.set_trace()\n",
    "    UM.navigate(driver, xpath='//li[@class=\"paginate_button page-item next\"]', move=True, click=True)\n",
    "\n",
    "#     if flag == True: break    \n",
    "#     driver.find_element_by_xpath('//*[@id=\"allReports_next\"]/a').click()\n"
   ]
  },
  {
   "cell_type": "code",
   "execution_count": null,
   "id": "480fb112",
   "metadata": {},
   "outputs": [],
   "source": []
  },
  {
   "cell_type": "code",
   "execution_count": 71,
   "id": "1e7ba4c4",
   "metadata": {},
   "outputs": [],
   "source": []
  },
  {
   "cell_type": "code",
   "execution_count": 72,
   "id": "c2a6a07a",
   "metadata": {},
   "outputs": [
    {
     "name": "stdout",
     "output_type": "stream",
     "text": [
      "19:01:51 C:/Users/JayYang/OneDrive - Alpha Sherpa Capital/Database/NBC\\Log/20220526 created.\n",
      "19:01:51 Loading C:/Users/JayYang/OneDrive - Alpha Sherpa Capital/Database/NBC\\test.csv\n"
     ]
    }
   ],
   "source": [
    "test = DL.loadDB('test.csv', parse_dates=['time'])"
   ]
  },
  {
   "cell_type": "code",
   "execution_count": null,
   "id": "8e463548",
   "metadata": {},
   "outputs": [],
   "source": []
  },
  {
   "cell_type": "code",
   "execution_count": null,
   "id": "f22d2d87",
   "metadata": {},
   "outputs": [],
   "source": [
    "df = result_df.copy()"
   ]
  },
  {
   "cell_type": "code",
   "execution_count": 213,
   "id": "519f0e8b",
   "metadata": {},
   "outputs": [],
   "source": [
    "for i in range(len(df)):\n",
    "\n",
    "    driver.get(df.at[i,'url'].replace('pdf','html'))\n",
    "    time.sleep(0.1)\n",
    "\n",
    "    trs = driver.find_elements(By.XPATH, '//td/table/tbody')[1]\n",
    "    soup = BeautifulSoup(trs.get_attribute('innerHTML'), 'html.parser')\n",
    "\n",
    "    rating = soup.find_all('tbody')[0].find_all('td')[2].text.replace(u'\\xa0', u' ').strip('\\n ')\n",
    "    rating = rating.split(': ')[1]\n",
    "    df.at[i, 'rating_curr'] = rating\n",
    "    \n",
    "    tp = soup.find_all('tbody')[0].find_all('td')[3].text.replace(u'\\xa0', u' ').strip('\\n ')\n",
    "    tp = tp.split('$')[1]\n",
    "    df.at[i, 'tp_curr'] = tp\n",
    "    \n",
    "    summary = ' '.join([x.text for x in soup.find_all('p')])\n",
    "    df.at[i, 'summary'] = summary\n",
    "    \n",
    "    uid = df.at[i,'url'].split('encrypt=')[1].split('&')[0]\n",
    "    df.at[i,'report_id'] = uid\n",
    "    \n",
    "    time.sleep(0.002)"
   ]
  },
  {
   "cell_type": "code",
   "execution_count": null,
   "id": "1460fc87",
   "metadata": {},
   "outputs": [],
   "source": []
  },
  {
   "cell_type": "code",
   "execution_count": 236,
   "id": "dc5c8a08",
   "metadata": {
    "scrolled": true
   },
   "outputs": [
    {
     "data": {
      "text/html": [
       "<div>\n",
       "<style scoped>\n",
       "    .dataframe tbody tr th:only-of-type {\n",
       "        vertical-align: middle;\n",
       "    }\n",
       "\n",
       "    .dataframe tbody tr th {\n",
       "        vertical-align: top;\n",
       "    }\n",
       "\n",
       "    .dataframe thead th {\n",
       "        text-align: right;\n",
       "    }\n",
       "</style>\n",
       "<table border=\"1\" class=\"dataframe\">\n",
       "  <thead>\n",
       "    <tr style=\"text-align: right;\">\n",
       "      <th></th>\n",
       "      <th>headline</th>\n",
       "      <th>url</th>\n",
       "      <th>ticker</th>\n",
       "      <th>analyst_pri</th>\n",
       "      <th>broker_label</th>\n",
       "      <th>time</th>\n",
       "      <th>uid</th>\n",
       "      <th>rating_curr</th>\n",
       "      <th>tp_curr</th>\n",
       "      <th>summary</th>\n",
       "      <th>exch_location</th>\n",
       "      <th>exch_region</th>\n",
       "      <th>publish_date_and_time</th>\n",
       "    </tr>\n",
       "  </thead>\n",
       "  <tbody>\n",
       "    <tr>\n",
       "      <th>0</th>\n",
       "      <td>Portfolio Rationalized, La Guitarra Divested</td>\n",
       "      <td>https://nbf.bluematrix.com/sellside/EmailDocVi...</td>\n",
       "      <td>FR CN</td>\n",
       "      <td>Don  DeMarco</td>\n",
       "      <td>Research Flash</td>\n",
       "      <td>May 25 2022 01:01PM</td>\n",
       "      <td>91d15aeb-cde1-4ad3-a281-9c6c417b291c</td>\n",
       "      <td>Sector Perform</td>\n",
       "      <td>18.00</td>\n",
       "      <td>Impact: Neutral FR announced a definitive agre...</td>\n",
       "      <td>Canada</td>\n",
       "      <td>Americas</td>\n",
       "      <td>May 25 2022 01:01PM</td>\n",
       "    </tr>\n",
       "    <tr>\n",
       "      <th>1</th>\n",
       "      <td>Triple Lynx Continues to Return Elevated Grades</td>\n",
       "      <td>https://nbf.bluematrix.com/sellside/EmailDocVi...</td>\n",
       "      <td>OSK CN</td>\n",
       "      <td>Don  DeMarco</td>\n",
       "      <td>Research Flash</td>\n",
       "      <td>May 25 2022 10:13AM</td>\n",
       "      <td>f61cd17a-f581-47f7-b1a2-ca2195804dd9</td>\n",
       "      <td>Outperform</td>\n",
       "      <td>5.50</td>\n",
       "      <td>Impact: Neutral OSK released assays from its o...</td>\n",
       "      <td>Canada</td>\n",
       "      <td>Americas</td>\n",
       "      <td>May 25 2022 10:13AM</td>\n",
       "    </tr>\n",
       "    <tr>\n",
       "      <th>2</th>\n",
       "      <td>Rangefront Assay Update; Modest Improvement in...</td>\n",
       "      <td>https://nbf.bluematrix.com/sellside/EmailDocVi...</td>\n",
       "      <td>LGD CN</td>\n",
       "      <td>Rabi  Nizami</td>\n",
       "      <td>Research Flash</td>\n",
       "      <td>May 25 2022 09:55AM</td>\n",
       "      <td>29aa0ef9-fce5-42a1-9d9e-2f5294e9f9a0</td>\n",
       "      <td>Outperform</td>\n",
       "      <td>1.80</td>\n",
       "      <td>Impact: Neutral This morning, Liberty Gold pro...</td>\n",
       "      <td>Canada</td>\n",
       "      <td>Americas</td>\n",
       "      <td>May 25 2022 09:55AM</td>\n",
       "    </tr>\n",
       "    <tr>\n",
       "      <th>3</th>\n",
       "      <td>Q2/22 First Look – PCLs and trading revenues d...</td>\n",
       "      <td>https://nbf.bluematrix.com/sellside/EmailDocVi...</td>\n",
       "      <td>BMO CN</td>\n",
       "      <td>Gabriel  Dechaine</td>\n",
       "      <td>Research Flash</td>\n",
       "      <td>May 25 2022 07:30AM</td>\n",
       "      <td>859d8afd-964e-4dfb-90b6-51308559eb20</td>\n",
       "      <td>Sector Perform</td>\n",
       "      <td>151.00</td>\n",
       "      <td>Event: BMO reported Q2/22 adjusted EPS of $3.2...</td>\n",
       "      <td>Canada</td>\n",
       "      <td>Americas</td>\n",
       "      <td>May 25 2022 07:30AM</td>\n",
       "    </tr>\n",
       "    <tr>\n",
       "      <th>4</th>\n",
       "      <td>Q2/22 First Look – Strong Canadian &amp; Internati...</td>\n",
       "      <td>https://nbf.bluematrix.com/sellside/EmailDocVi...</td>\n",
       "      <td>BNS CN</td>\n",
       "      <td>Gabriel  Dechaine</td>\n",
       "      <td>Research Flash</td>\n",
       "      <td>May 25 2022 07:05AM</td>\n",
       "      <td>03f02427-da32-451c-91fd-133a4664eb4f</td>\n",
       "      <td>Sector Perform</td>\n",
       "      <td>90.00</td>\n",
       "      <td>Event: BNS reported Q2/22 core cash EPS of $2....</td>\n",
       "      <td>Canada</td>\n",
       "      <td>Americas</td>\n",
       "      <td>May 25 2022 07:05AM</td>\n",
       "    </tr>\n",
       "    <tr>\n",
       "      <th>...</th>\n",
       "      <td>...</td>\n",
       "      <td>...</td>\n",
       "      <td>...</td>\n",
       "      <td>...</td>\n",
       "      <td>...</td>\n",
       "      <td>...</td>\n",
       "      <td>...</td>\n",
       "      <td>...</td>\n",
       "      <td>...</td>\n",
       "      <td>...</td>\n",
       "      <td>...</td>\n",
       "      <td>...</td>\n",
       "      <td>...</td>\n",
       "    </tr>\n",
       "    <tr>\n",
       "      <th>245</th>\n",
       "      <td>Sandstorm Reports Q1/22 Sales and Revenue Ahea...</td>\n",
       "      <td>https://nbf.bluematrix.com/sellside/EmailDocVi...</td>\n",
       "      <td>SSL CN</td>\n",
       "      <td>Shane  Nagle</td>\n",
       "      <td>Research Flash</td>\n",
       "      <td>Apr 04 2022 09:31AM</td>\n",
       "      <td>f4793833-8823-47bd-b481-fc84d4323b7d</td>\n",
       "      <td>Outperform</td>\n",
       "      <td>10.00</td>\n",
       "      <td>Impact: Positive This morning, Sandstorm Gold ...</td>\n",
       "      <td>Canada</td>\n",
       "      <td>Americas</td>\n",
       "      <td>Apr 04 2022 09:31AM</td>\n",
       "    </tr>\n",
       "    <tr>\n",
       "      <th>246</th>\n",
       "      <td>Exploration Update</td>\n",
       "      <td>https://nbf.bluematrix.com/sellside/EmailDocVi...</td>\n",
       "      <td>YRI CN</td>\n",
       "      <td>Mike  Parkin</td>\n",
       "      <td>Research Flash</td>\n",
       "      <td>Apr 04 2022 09:21AM</td>\n",
       "      <td>769d018b-362c-4805-bbec-42980669c455</td>\n",
       "      <td>Outperform</td>\n",
       "      <td>8.75</td>\n",
       "      <td>This morning, Yamana reported an update on its...</td>\n",
       "      <td>Canada</td>\n",
       "      <td>Americas</td>\n",
       "      <td>Apr 04 2022 09:21AM</td>\n",
       "    </tr>\n",
       "    <tr>\n",
       "      <th>247</th>\n",
       "      <td>Copper Mountain Announces Commissioning of Tro...</td>\n",
       "      <td>https://nbf.bluematrix.com/sellside/EmailDocVi...</td>\n",
       "      <td>CMMC CN</td>\n",
       "      <td>Shane  Nagle</td>\n",
       "      <td>Research Flash</td>\n",
       "      <td>Apr 04 2022 07:45AM</td>\n",
       "      <td>9b8c4155-46b9-4094-ad2f-dab814e9582d</td>\n",
       "      <td>Outperform</td>\n",
       "      <td>4.75</td>\n",
       "      <td>Impact: Positive This morning, Copper Mountain...</td>\n",
       "      <td>Canada</td>\n",
       "      <td>Americas</td>\n",
       "      <td>Apr 04 2022 07:45AM</td>\n",
       "    </tr>\n",
       "    <tr>\n",
       "      <th>248</th>\n",
       "      <td>Debt Term Sheet Closed, Supports Liquidity</td>\n",
       "      <td>https://nbf.bluematrix.com/sellside/EmailDocVi...</td>\n",
       "      <td>MOZ CN</td>\n",
       "      <td>Don  DeMarco</td>\n",
       "      <td>Research Flash</td>\n",
       "      <td>Apr 01 2022 08:43AM</td>\n",
       "      <td>d4cde9bd-3cc8-4b85-b10e-1438eb716f60</td>\n",
       "      <td>Outperform</td>\n",
       "      <td>4.50</td>\n",
       "      <td>Impact: Neutral After market close, MOZ report...</td>\n",
       "      <td>Canada</td>\n",
       "      <td>Americas</td>\n",
       "      <td>Apr 01 2022 08:43AM</td>\n",
       "    </tr>\n",
       "    <tr>\n",
       "      <th>249</th>\n",
       "      <td>Media Luna TR: Capex Elevated, Funding Plan Wo...</td>\n",
       "      <td>https://nbf.bluematrix.com/sellside/EmailDocVi...</td>\n",
       "      <td>TXG CN</td>\n",
       "      <td>Don  DeMarco</td>\n",
       "      <td>Research Flash</td>\n",
       "      <td>Apr 01 2022 06:56AM</td>\n",
       "      <td>f4ba7c1e-da18-4929-93e6-1a707bb6a68f</td>\n",
       "      <td>Sector Perform</td>\n",
       "      <td>24.00</td>\n",
       "      <td>Impact: Negative After market close, TXG relea...</td>\n",
       "      <td>Canada</td>\n",
       "      <td>Americas</td>\n",
       "      <td>Apr 01 2022 06:56AM</td>\n",
       "    </tr>\n",
       "  </tbody>\n",
       "</table>\n",
       "<p>250 rows × 13 columns</p>\n",
       "</div>"
      ],
      "text/plain": [
       "                                              headline  \\\n",
       "0         Portfolio Rationalized, La Guitarra Divested   \n",
       "1      Triple Lynx Continues to Return Elevated Grades   \n",
       "2    Rangefront Assay Update; Modest Improvement in...   \n",
       "3    Q2/22 First Look – PCLs and trading revenues d...   \n",
       "4    Q2/22 First Look – Strong Canadian & Internati...   \n",
       "..                                                 ...   \n",
       "245  Sandstorm Reports Q1/22 Sales and Revenue Ahea...   \n",
       "246                                 Exploration Update   \n",
       "247  Copper Mountain Announces Commissioning of Tro...   \n",
       "248         Debt Term Sheet Closed, Supports Liquidity   \n",
       "249  Media Luna TR: Capex Elevated, Funding Plan Wo...   \n",
       "\n",
       "                                                   url   ticker  \\\n",
       "0    https://nbf.bluematrix.com/sellside/EmailDocVi...    FR CN   \n",
       "1    https://nbf.bluematrix.com/sellside/EmailDocVi...   OSK CN   \n",
       "2    https://nbf.bluematrix.com/sellside/EmailDocVi...   LGD CN   \n",
       "3    https://nbf.bluematrix.com/sellside/EmailDocVi...   BMO CN   \n",
       "4    https://nbf.bluematrix.com/sellside/EmailDocVi...   BNS CN   \n",
       "..                                                 ...      ...   \n",
       "245  https://nbf.bluematrix.com/sellside/EmailDocVi...   SSL CN   \n",
       "246  https://nbf.bluematrix.com/sellside/EmailDocVi...   YRI CN   \n",
       "247  https://nbf.bluematrix.com/sellside/EmailDocVi...  CMMC CN   \n",
       "248  https://nbf.bluematrix.com/sellside/EmailDocVi...   MOZ CN   \n",
       "249  https://nbf.bluematrix.com/sellside/EmailDocVi...   TXG CN   \n",
       "\n",
       "           analyst_pri    broker_label                 time  \\\n",
       "0         Don  DeMarco  Research Flash  May 25 2022 01:01PM   \n",
       "1         Don  DeMarco  Research Flash  May 25 2022 10:13AM   \n",
       "2         Rabi  Nizami  Research Flash  May 25 2022 09:55AM   \n",
       "3    Gabriel  Dechaine  Research Flash  May 25 2022 07:30AM   \n",
       "4    Gabriel  Dechaine  Research Flash  May 25 2022 07:05AM   \n",
       "..                 ...             ...                  ...   \n",
       "245       Shane  Nagle  Research Flash  Apr 04 2022 09:31AM   \n",
       "246       Mike  Parkin  Research Flash  Apr 04 2022 09:21AM   \n",
       "247       Shane  Nagle  Research Flash  Apr 04 2022 07:45AM   \n",
       "248       Don  DeMarco  Research Flash  Apr 01 2022 08:43AM   \n",
       "249       Don  DeMarco  Research Flash  Apr 01 2022 06:56AM   \n",
       "\n",
       "                                      uid     rating_curr tp_curr  \\\n",
       "0    91d15aeb-cde1-4ad3-a281-9c6c417b291c  Sector Perform   18.00   \n",
       "1    f61cd17a-f581-47f7-b1a2-ca2195804dd9      Outperform    5.50   \n",
       "2    29aa0ef9-fce5-42a1-9d9e-2f5294e9f9a0      Outperform    1.80   \n",
       "3    859d8afd-964e-4dfb-90b6-51308559eb20  Sector Perform  151.00   \n",
       "4    03f02427-da32-451c-91fd-133a4664eb4f  Sector Perform   90.00   \n",
       "..                                    ...             ...     ...   \n",
       "245  f4793833-8823-47bd-b481-fc84d4323b7d      Outperform   10.00   \n",
       "246  769d018b-362c-4805-bbec-42980669c455      Outperform    8.75   \n",
       "247  9b8c4155-46b9-4094-ad2f-dab814e9582d      Outperform    4.75   \n",
       "248  d4cde9bd-3cc8-4b85-b10e-1438eb716f60      Outperform    4.50   \n",
       "249  f4ba7c1e-da18-4929-93e6-1a707bb6a68f  Sector Perform   24.00   \n",
       "\n",
       "                                               summary exch_location  \\\n",
       "0    Impact: Neutral FR announced a definitive agre...        Canada   \n",
       "1    Impact: Neutral OSK released assays from its o...        Canada   \n",
       "2    Impact: Neutral This morning, Liberty Gold pro...        Canada   \n",
       "3    Event: BMO reported Q2/22 adjusted EPS of $3.2...        Canada   \n",
       "4    Event: BNS reported Q2/22 core cash EPS of $2....        Canada   \n",
       "..                                                 ...           ...   \n",
       "245  Impact: Positive This morning, Sandstorm Gold ...        Canada   \n",
       "246  This morning, Yamana reported an update on its...        Canada   \n",
       "247  Impact: Positive This morning, Copper Mountain...        Canada   \n",
       "248  Impact: Neutral After market close, MOZ report...        Canada   \n",
       "249  Impact: Negative After market close, TXG relea...        Canada   \n",
       "\n",
       "    exch_region publish_date_and_time  \n",
       "0      Americas   May 25 2022 01:01PM  \n",
       "1      Americas   May 25 2022 10:13AM  \n",
       "2      Americas   May 25 2022 09:55AM  \n",
       "3      Americas   May 25 2022 07:30AM  \n",
       "4      Americas   May 25 2022 07:05AM  \n",
       "..          ...                   ...  \n",
       "245    Americas   Apr 04 2022 09:31AM  \n",
       "246    Americas   Apr 04 2022 09:21AM  \n",
       "247    Americas   Apr 04 2022 07:45AM  \n",
       "248    Americas   Apr 01 2022 08:43AM  \n",
       "249    Americas   Apr 01 2022 06:56AM  \n",
       "\n",
       "[250 rows x 13 columns]"
      ]
     },
     "execution_count": 236,
     "metadata": {},
     "output_type": "execute_result"
    }
   ],
   "source": [
    "result_df"
   ]
  },
  {
   "cell_type": "markdown",
   "id": "a5bc47ca",
   "metadata": {},
   "source": [
    "### Manually change"
   ]
  },
  {
   "cell_type": "code",
   "execution_count": 100,
   "id": "d0b6948f",
   "metadata": {},
   "outputs": [],
   "source": [
    "# df.at[7, 'rating_prev'] = 'Underperform 4'\n",
    "# df.at[8, 'rating_prev'] = 'Outperform 2'"
   ]
  },
  {
   "cell_type": "code",
   "execution_count": 237,
   "id": "a908633e",
   "metadata": {
    "scrolled": true
   },
   "outputs": [
    {
     "data": {
      "text/html": [
       "<div>\n",
       "<style scoped>\n",
       "    .dataframe tbody tr th:only-of-type {\n",
       "        vertical-align: middle;\n",
       "    }\n",
       "\n",
       "    .dataframe tbody tr th {\n",
       "        vertical-align: top;\n",
       "    }\n",
       "\n",
       "    .dataframe thead th {\n",
       "        text-align: right;\n",
       "    }\n",
       "</style>\n",
       "<table border=\"1\" class=\"dataframe\">\n",
       "  <thead>\n",
       "    <tr style=\"text-align: right;\">\n",
       "      <th></th>\n",
       "      <th>ticker</th>\n",
       "      <th>rating_curr</th>\n",
       "      <th>tp_curr</th>\n",
       "      <th>time</th>\n",
       "    </tr>\n",
       "  </thead>\n",
       "  <tbody>\n",
       "    <tr>\n",
       "      <th>0</th>\n",
       "      <td>FR CN</td>\n",
       "      <td>Sector Perform</td>\n",
       "      <td>18.00</td>\n",
       "      <td>May 25 2022 01:01PM</td>\n",
       "    </tr>\n",
       "    <tr>\n",
       "      <th>1</th>\n",
       "      <td>OSK CN</td>\n",
       "      <td>Outperform</td>\n",
       "      <td>5.50</td>\n",
       "      <td>May 25 2022 10:13AM</td>\n",
       "    </tr>\n",
       "    <tr>\n",
       "      <th>2</th>\n",
       "      <td>LGD CN</td>\n",
       "      <td>Outperform</td>\n",
       "      <td>1.80</td>\n",
       "      <td>May 25 2022 09:55AM</td>\n",
       "    </tr>\n",
       "    <tr>\n",
       "      <th>3</th>\n",
       "      <td>BMO CN</td>\n",
       "      <td>Sector Perform</td>\n",
       "      <td>151.00</td>\n",
       "      <td>May 25 2022 07:30AM</td>\n",
       "    </tr>\n",
       "    <tr>\n",
       "      <th>4</th>\n",
       "      <td>BNS CN</td>\n",
       "      <td>Sector Perform</td>\n",
       "      <td>90.00</td>\n",
       "      <td>May 25 2022 07:05AM</td>\n",
       "    </tr>\n",
       "    <tr>\n",
       "      <th>...</th>\n",
       "      <td>...</td>\n",
       "      <td>...</td>\n",
       "      <td>...</td>\n",
       "      <td>...</td>\n",
       "    </tr>\n",
       "    <tr>\n",
       "      <th>245</th>\n",
       "      <td>SSL CN</td>\n",
       "      <td>Outperform</td>\n",
       "      <td>10.00</td>\n",
       "      <td>Apr 04 2022 09:31AM</td>\n",
       "    </tr>\n",
       "    <tr>\n",
       "      <th>246</th>\n",
       "      <td>YRI CN</td>\n",
       "      <td>Outperform</td>\n",
       "      <td>8.75</td>\n",
       "      <td>Apr 04 2022 09:21AM</td>\n",
       "    </tr>\n",
       "    <tr>\n",
       "      <th>247</th>\n",
       "      <td>CMMC CN</td>\n",
       "      <td>Outperform</td>\n",
       "      <td>4.75</td>\n",
       "      <td>Apr 04 2022 07:45AM</td>\n",
       "    </tr>\n",
       "    <tr>\n",
       "      <th>248</th>\n",
       "      <td>MOZ CN</td>\n",
       "      <td>Outperform</td>\n",
       "      <td>4.50</td>\n",
       "      <td>Apr 01 2022 08:43AM</td>\n",
       "    </tr>\n",
       "    <tr>\n",
       "      <th>249</th>\n",
       "      <td>TXG CN</td>\n",
       "      <td>Sector Perform</td>\n",
       "      <td>24.00</td>\n",
       "      <td>Apr 01 2022 06:56AM</td>\n",
       "    </tr>\n",
       "  </tbody>\n",
       "</table>\n",
       "<p>250 rows × 4 columns</p>\n",
       "</div>"
      ],
      "text/plain": [
       "      ticker     rating_curr tp_curr                 time\n",
       "0      FR CN  Sector Perform   18.00  May 25 2022 01:01PM\n",
       "1     OSK CN      Outperform    5.50  May 25 2022 10:13AM\n",
       "2     LGD CN      Outperform    1.80  May 25 2022 09:55AM\n",
       "3     BMO CN  Sector Perform  151.00  May 25 2022 07:30AM\n",
       "4     BNS CN  Sector Perform   90.00  May 25 2022 07:05AM\n",
       "..       ...             ...     ...                  ...\n",
       "245   SSL CN      Outperform   10.00  Apr 04 2022 09:31AM\n",
       "246   YRI CN      Outperform    8.75  Apr 04 2022 09:21AM\n",
       "247  CMMC CN      Outperform    4.75  Apr 04 2022 07:45AM\n",
       "248   MOZ CN      Outperform    4.50  Apr 01 2022 08:43AM\n",
       "249   TXG CN  Sector Perform   24.00  Apr 01 2022 06:56AM\n",
       "\n",
       "[250 rows x 4 columns]"
      ]
     },
     "execution_count": 237,
     "metadata": {},
     "output_type": "execute_result"
    }
   ],
   "source": [
    "# df.replace(column={'time': 'publish_date_and_time'}, inplace=True)\n",
    "df = result_df.copy()\n",
    "df['publish_date_and_time'] = df['time']\n",
    "df[['ticker', 'rating_curr', 'tp_curr', 'time']]"
   ]
  },
  {
   "cell_type": "code",
   "execution_count": null,
   "id": "04ea0d41-1b58-494b-b113-e0b5fa557f40",
   "metadata": {},
   "outputs": [],
   "source": []
  },
  {
   "cell_type": "code",
   "execution_count": null,
   "id": "de54d469",
   "metadata": {
    "scrolled": true
   },
   "outputs": [],
   "source": []
  },
  {
   "cell_type": "code",
   "execution_count": null,
   "id": "6b432428",
   "metadata": {},
   "outputs": [],
   "source": []
  },
  {
   "cell_type": "code",
   "execution_count": 245,
   "id": "ac49d7a3",
   "metadata": {},
   "outputs": [
    {
     "name": "stdout",
     "output_type": "stream",
     "text": [
      "2022-05-27 16:13:12.289416\n"
     ]
    },
    {
     "name": "stderr",
     "output_type": "stream",
     "text": [
      "C:\\Users/JayYang/OneDrive - Alpha Sherpa Capital\\finBERT\\sentiments.py:40: UserWarning: nn.init.xavier_normal is now deprecated in favor of nn.init.xavier_normal_.\n",
      "  nn.init.xavier_normal(self.classifier.weight)\n"
     ]
    },
    {
     "name": "stdout",
     "output_type": "stream",
     "text": [
      "Device: cuda\n",
      "'update_sentiment'  13395.46 ms\n",
      "2022-05-27 16:13:25.684855\n",
      "Device: cuda\n",
      "'update_sentiment'  14279.48 ms\n"
     ]
    }
   ],
   "source": [
    "df['headline_senti'] = None\n",
    "df['summary_senti'] = None\n",
    "\n",
    "df['headline_senti'], _ = update_sentiment(df['headline'])\n",
    "df['summary_senti'], _ = update_sentiment(df['summary'])"
   ]
  },
  {
   "cell_type": "code",
   "execution_count": 321,
   "id": "fcea1036",
   "metadata": {},
   "outputs": [
    {
     "name": "stdout",
     "output_type": "stream",
     "text": [
      "16:48:47 Loading C:/Users/JayYang/OneDrive - Alpha Sherpa Capital/Database/NBC\\NBC sentiment.csv\n"
     ]
    }
   ],
   "source": [
    "sentiment_df = DL.loadDB('NBC sentiment.csv', parse_dates=['publish_date_and_time'])"
   ]
  },
  {
   "cell_type": "code",
   "execution_count": null,
   "id": "409b87c1",
   "metadata": {
    "scrolled": true
   },
   "outputs": [],
   "source": []
  },
  {
   "cell_type": "code",
   "execution_count": 322,
   "id": "332d3ada",
   "metadata": {},
   "outputs": [],
   "source": [
    "df['headline_senti'] = None\n",
    "df['summary_senti'] = None\n",
    "\n",
    "df[['tp_prev', 'tp_chg', 'tp_chg_pct', 'abs(tp_chg)']] = None\n",
    "df[['rating_prev']] = None\n",
    "df[['report_type']] = ''\n",
    "\n",
    "if len(sentiment_df) == 0:\n",
    "    new_df = df.copy()\n",
    "else:\n",
    "    sentiment_df = pd.concat([sentiment_df, df[sentiment_df.columns]], axis=0).drop_duplicates(['publish_date_and_time', 'uid'])\n",
    "    new_df = sentiment_df[sentiment_df['headline_senti'].isna()].copy().reset_index(drop=True)\n",
    "    sentiment_df = sentiment_df[~sentiment_df['headline_senti'].isna()].reset_index(drop=True)"
   ]
  },
  {
   "cell_type": "code",
   "execution_count": null,
   "id": "154b3dfb",
   "metadata": {},
   "outputs": [],
   "source": []
  },
  {
   "cell_type": "code",
   "execution_count": null,
   "id": "ab7f0e56",
   "metadata": {},
   "outputs": [],
   "source": []
  },
  {
   "cell_type": "code",
   "execution_count": 323,
   "id": "e0f719e7",
   "metadata": {},
   "outputs": [
    {
     "name": "stdout",
     "output_type": "stream",
     "text": [
      "2022-05-27 16:48:59.040515\n"
     ]
    },
    {
     "name": "stderr",
     "output_type": "stream",
     "text": [
      "C:\\Users/JayYang/OneDrive - Alpha Sherpa Capital\\finBERT\\sentiments.py:40: UserWarning: nn.init.xavier_normal is now deprecated in favor of nn.init.xavier_normal_.\n",
      "  nn.init.xavier_normal(self.classifier.weight)\n"
     ]
    },
    {
     "name": "stdout",
     "output_type": "stream",
     "text": [
      "Device: cuda\n",
      "'update_sentiment'  13322.35 ms\n",
      "2022-05-27 16:49:12.363733\n",
      "Device: cuda\n",
      "'update_sentiment'  14487.82 ms\n"
     ]
    }
   ],
   "source": [
    "if len(new_df) > 0:\n",
    "    new_df['headline_senti'], _ = update_sentiment(new_df['headline'])\n",
    "    new_df['summary_senti'], _ = update_sentiment(new_df['summary'])"
   ]
  },
  {
   "cell_type": "code",
   "execution_count": 324,
   "id": "232789cc",
   "metadata": {},
   "outputs": [
    {
     "name": "stdout",
     "output_type": "stream",
     "text": [
      "16:49:26 Loading C:/Users/JayYang/OneDrive - Alpha Sherpa Capital/Database/NBC\\new_df.csv\n"
     ]
    }
   ],
   "source": [
    "DL.toDB(new_df, 'new_df.csv')\n",
    "new_df = DL.loadDB('new_df.csv', parse_dates=['publish_date_and_time'])"
   ]
  },
  {
   "cell_type": "code",
   "execution_count": null,
   "id": "5b0fda1f",
   "metadata": {},
   "outputs": [],
   "source": []
  },
  {
   "cell_type": "code",
   "execution_count": 320,
   "id": "784c9332",
   "metadata": {},
   "outputs": [
    {
     "data": {
      "text/plain": [
       "Index(['ticker', 'publish_date_and_time', 'uid', 'analyst_pri', 'headline',\n",
       "       'summary', 'headline_senti', 'summary_senti', 'rating_curr',\n",
       "       'rating_prev', 'tp_curr', 'tp_prev', 'tp_chg_pct', 'abs(tp_chg)',\n",
       "       'report_type', 'tp_chg', 'ad-hoc', 'Earning's Review', 'Rating Change',\n",
       "       'Target Price Change', 'Estimate Change', 'Initiation'],\n",
       "      dtype='object')"
      ]
     },
     "execution_count": 320,
     "metadata": {},
     "output_type": "execute_result"
    }
   ],
   "source": []
  },
  {
   "cell_type": "code",
   "execution_count": 325,
   "id": "3e4fc531",
   "metadata": {},
   "outputs": [],
   "source": [
    "sentiment_df = pd.concat([new_df[sentiment_df.columns], sentiment_df], axis=0).sort_values('publish_date_and_time', ascending=True).\\\n",
    "    drop_duplicates(['publish_date_and_time', 'uid'], keep='first').reset_index(drop=True)\n",
    "sentiment_df['rating_prev'] = sentiment_df.groupby(['ticker'])['rating_curr'].apply(lambda x: x.shift())\n",
    "\n",
    "# Clean target prices mannually with Artificial Intelligence\n",
    "\n",
    "sentiment_df = sentiment_df.sort_values(['publish_date_and_time'], ascending=True).reset_index(drop=True)\n",
    "sentiment_df['tp_curr'] = sentiment_df.groupby(['ticker'])['tp_curr'].apply(lambda x: x.fillna(method='ffill'))\n",
    "\n",
    "sentiment_df['tp_curr'] = sentiment_df['tp_curr'].str.replace(',', '').str.strip('$ ')\n",
    "# sentiment_df['tp_prev'] = sentiment_df['tp_prev'].fillna('').str.replace(',', '').str.strip('$ ')\n",
    "\n",
    "for col in ['tp_curr', 'tp_chg_pct', 'abs(tp_chg)']:\n",
    "    sentiment_df[col] = sentiment_df[col].astype(float)\n",
    "sentiment_df['tp_prev'] = sentiment_df.groupby(['ticker'])['tp_curr'].apply(lambda x: x.shift())\n",
    "sentiment_df['tp_chg'] = sentiment_df.groupby(['ticker'])['tp_curr'].apply(lambda x: x - x.shift())\n",
    "sentiment_df['abs(tp_chg)'] = abs(sentiment_df['tp_chg'])\n",
    "sentiment_df['tp_chg_pct'] = sentiment_df['tp_chg'] / sentiment_df['tp_curr']\n",
    "\n",
    "sentiment_df['rating_curr'] = sentiment_df.groupby(['ticker'])['rating_curr'].apply(lambda x: x.fillna(method='ffill'))\n",
    "sentiment_df['rating_prev'] = sentiment_df.groupby(['ticker'])['rating_curr'].apply(lambda x: x.shift())\n",
    "\n",
    "\n",
    "# Define report types\n",
    "\n",
    "er_mask = er_filter(sentiment_df['headline'], sentiment_df['summary'])\n",
    "rc_mask = sentiment_df['rating_curr'] != sentiment_df['rating_prev']\n",
    "# Backfill rating_prev with previous rating_curr\n",
    "\n",
    "tp_mask = sentiment_df['tp_curr'] != sentiment_df['tp_prev']\n",
    "io_mask = io_filter(sentiment_df['headline'], sentiment_df['summary'])\n",
    "ec_mask = ec_filter(sentiment_df['headline'], sentiment_df['summary'])\n",
    "\n",
    "sentiment_df['report_type'] = 'ad-hoc'\n",
    "sentiment_df['report_type'] = np.where(er_mask, 'Earning\\'s Review', sentiment_df['report_type'])\n",
    "sentiment_df['report_type'] = np.where(ec_mask, 'Estimate Change', sentiment_df['report_type'])\n",
    "sentiment_df['report_type'] = np.where(io_mask, 'Initiation', sentiment_df['report_type'])\n",
    "sentiment_df['report_type'] = np.where(tp_mask, 'Target Price Change', sentiment_df['report_type'])\n",
    "sentiment_df['report_type'] = np.where(rc_mask, 'Rating Change', sentiment_df['report_type'])"
   ]
  },
  {
   "cell_type": "code",
   "execution_count": 326,
   "id": "8a96168a",
   "metadata": {},
   "outputs": [],
   "source": [
    "DL.toDB(sentiment_df, f'NBC sentiment.csv')"
   ]
  },
  {
   "cell_type": "code",
   "execution_count": null,
   "id": "b7a569ca",
   "metadata": {},
   "outputs": [],
   "source": []
  },
  {
   "cell_type": "code",
   "execution_count": null,
   "id": "db1c0710",
   "metadata": {},
   "outputs": [],
   "source": []
  },
  {
   "cell_type": "code",
   "execution_count": null,
   "id": "aeb9eef0",
   "metadata": {},
   "outputs": [],
   "source": []
  },
  {
   "cell_type": "markdown",
   "id": "3b033c9a",
   "metadata": {},
   "source": [
    "### Sentiments"
   ]
  },
  {
   "cell_type": "code",
   "execution_count": null,
   "id": "b15dfa8d",
   "metadata": {},
   "outputs": [],
   "source": []
  },
  {
   "cell_type": "code",
   "execution_count": null,
   "id": "c069c341",
   "metadata": {},
   "outputs": [],
   "source": []
  },
  {
   "cell_type": "code",
   "execution_count": null,
   "id": "86846ded",
   "metadata": {},
   "outputs": [],
   "source": []
  },
  {
   "cell_type": "code",
   "execution_count": null,
   "id": "95cc40b2",
   "metadata": {},
   "outputs": [],
   "source": []
  },
  {
   "cell_type": "code",
   "execution_count": null,
   "id": "8f545576",
   "metadata": {},
   "outputs": [],
   "source": []
  },
  {
   "cell_type": "code",
   "execution_count": null,
   "id": "48d31a89",
   "metadata": {},
   "outputs": [],
   "source": []
  },
  {
   "cell_type": "code",
   "execution_count": null,
   "id": "c2abb5d7",
   "metadata": {},
   "outputs": [],
   "source": []
  },
  {
   "cell_type": "code",
   "execution_count": null,
   "id": "68180366",
   "metadata": {},
   "outputs": [],
   "source": []
  },
  {
   "cell_type": "code",
   "execution_count": null,
   "id": "12594f80",
   "metadata": {},
   "outputs": [],
   "source": []
  },
  {
   "cell_type": "code",
   "execution_count": null,
   "id": "42657326",
   "metadata": {},
   "outputs": [],
   "source": []
  },
  {
   "cell_type": "code",
   "execution_count": null,
   "id": "a5d54130",
   "metadata": {},
   "outputs": [],
   "source": []
  },
  {
   "cell_type": "code",
   "execution_count": null,
   "id": "0fafd9bc",
   "metadata": {},
   "outputs": [],
   "source": []
  },
  {
   "cell_type": "code",
   "execution_count": null,
   "id": "f9168a9b",
   "metadata": {},
   "outputs": [],
   "source": []
  },
  {
   "cell_type": "code",
   "execution_count": null,
   "id": "327f9d93",
   "metadata": {},
   "outputs": [],
   "source": []
  },
  {
   "cell_type": "code",
   "execution_count": null,
   "id": "fb0439e3",
   "metadata": {},
   "outputs": [],
   "source": []
  },
  {
   "cell_type": "code",
   "execution_count": null,
   "id": "afbce141",
   "metadata": {},
   "outputs": [],
   "source": []
  },
  {
   "cell_type": "code",
   "execution_count": null,
   "id": "beb60799",
   "metadata": {},
   "outputs": [],
   "source": []
  },
  {
   "cell_type": "code",
   "execution_count": null,
   "id": "e094c6b4",
   "metadata": {},
   "outputs": [],
   "source": []
  }
 ],
 "metadata": {
  "kernelspec": {
   "display_name": "Python 3 (ipykernel)",
   "language": "python",
   "name": "python3"
  },
  "language_info": {
   "codemirror_mode": {
    "name": "ipython",
    "version": 3
   },
   "file_extension": ".py",
   "mimetype": "text/x-python",
   "name": "python",
   "nbconvert_exporter": "python",
   "pygments_lexer": "ipython3",
   "version": "3.9.7"
  }
 },
 "nbformat": 4,
 "nbformat_minor": 5
}
