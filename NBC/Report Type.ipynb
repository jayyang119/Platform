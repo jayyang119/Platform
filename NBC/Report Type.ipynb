{
 "cells": [
  {
   "cell_type": "code",
   "execution_count": 1,
   "id": "fda1ab4d",
   "metadata": {},
   "outputs": [
    {
     "name": "stdout",
     "output_type": "stream",
     "text": [
      "C:\\Users\\JayYang\\Platform\\NBC\\Path\\settings.py C:\\Users\\JayYang\\Platform\\NBC\\Path\\settings.py\n",
      "Base path C:/Users/JayYang\n",
      "Platform path C:/Users/JayYang/Platform\n",
      "Onedrive directory: C:/Users/JayYang/OneDrive - Alpha Sherpa Capital\n",
      "Daily path C:/Users/JayYang/OneDrive - Alpha Sherpa Capital/Daily\n",
      "Database path C:/Users/JayYang/OneDrive - Alpha Sherpa Capital/Database/NBC\n",
      "Current working directory C:\\Users\\JayYang\\Platform\\NBC\n",
      "09:50:04 C:/Users/JayYang/OneDrive - Alpha Sherpa Capital/Database/NBC\\Log/20220524 created.\n",
      "09:50:04 Engine current settings: \n",
      "daily_position 18 \n",
      "region_position 6 \n",
      "skewness: 0\n",
      "09:50:04 Engine current settings: \n",
      "daily_position 18 \n",
      "region_position 6 \n",
      "skewness: 0\n"
     ]
    }
   ],
   "source": [
    "from Database import GSDatabase\n",
    "from uti import timeit, DataLoader, Logger\n",
    "\n",
    "GSD = GSDatabase()\n",
    "DL = DataLoader()\n",
    "logger = Logger()"
   ]
  },
  {
   "cell_type": "code",
   "execution_count": 2,
   "id": "fadceb55",
   "metadata": {},
   "outputs": [],
   "source": [
    "from Database.report_type import rc_filter, er_filter, io_filter, ec_filter\n",
    "import numpy as np"
   ]
  },
  {
   "cell_type": "code",
   "execution_count": 3,
   "id": "441a8f78",
   "metadata": {},
   "outputs": [
    {
     "name": "stdout",
     "output_type": "stream",
     "text": [
      "09:50:05 C:/Users/JayYang/OneDrive - Alpha Sherpa Capital/Database/NBC\\Log/20220524/20220524095004.txt created.\n",
      "09:50:05 Loading C:/Users/JayYang/OneDrive - Alpha Sherpa Capital/Database/NBC\\NBC sentiment.csv\n"
     ]
    }
   ],
   "source": [
    "senti = DL.loadDB('NBC sentiment.csv')"
   ]
  },
  {
   "cell_type": "code",
   "execution_count": null,
   "id": "599ae6b5",
   "metadata": {
    "scrolled": true
   },
   "outputs": [],
   "source": []
  },
  {
   "cell_type": "code",
   "execution_count": null,
   "id": "67afc30c",
   "metadata": {
    "scrolled": true
   },
   "outputs": [],
   "source": [
    "er_ind = er_filter(senti['headline'], senti['summary'])\n",
    "senti.loc[er_ind]\n",
    "\n",
    "rc_ind = rc_filter(senti['headline'], senti['summary'])\n",
    "senti.loc[rc_ind]\n",
    "\n",
    "# senti[senti['rating_prev'] != senti['rating_curr']]"
   ]
  },
  {
   "cell_type": "code",
   "execution_count": null,
   "id": "e48389e1",
   "metadata": {
    "scrolled": true
   },
   "outputs": [],
   "source": []
  },
  {
   "cell_type": "code",
   "execution_count": 21,
   "id": "5798f47c",
   "metadata": {},
   "outputs": [],
   "source": [
    "REPORT_TYPE_MAPPING = {'-1': 'ad-hoc',\n",
    "                       '0': 'Earning\\'s Review',\n",
    "                       '1': 'Rating Change',\n",
    "                       '2': 'Target Price Change',\n",
    "                       '3': 'Estimate Change',\n",
    "                       '4': 'Initiation'}"
   ]
  },
  {
   "cell_type": "code",
   "execution_count": null,
   "id": "d6e8cadf",
   "metadata": {},
   "outputs": [],
   "source": []
  },
  {
   "cell_type": "code",
   "execution_count": 26,
   "id": "20076136",
   "metadata": {},
   "outputs": [],
   "source": [
    "for report_type in REPORT_TYPE_MAPPING.values():\n",
    "    senti[report_type] = ''\n",
    "    \n",
    "\n",
    "er_mask = er_filter(senti['headline'], senti['summary'])\n",
    "rc_mask = senti['rating_curr'] != senti['rating_prev']\n",
    "# Backfill rating_prev with previous rating_curr\n",
    "\n",
    "tp_mask = senti['tp_curr'] != senti['tp_prev']\n",
    "io_mask = io_filter(senti['headline'], senti['summary'])\n",
    "ec_mask = ec_filter(senti['headline'], senti['summary'])\n",
    "\n",
    "senti['report_type'] = 'ad-hoc'\n",
    "senti['report_type'] = np.where(er_mask, 'Earning\\'s Review', senti['report_type'])\n",
    "senti['report_type'] = np.where(ec_mask, 'Estimate Change', senti['report_type'])\n",
    "senti['report_type'] = np.where(io_mask, 'Initiation', senti['report_type'])\n",
    "senti['report_type'] = np.where(tp_mask, 'Target Price Change', senti['report_type'])\n",
    "senti['report_type'] = np.where(rc_mask, 'Rating Change', senti['report_type'])"
   ]
  },
  {
   "cell_type": "code",
   "execution_count": 27,
   "id": "e0211aaa",
   "metadata": {},
   "outputs": [
    {
     "data": {
      "text/plain": [
       "Target Price Change    4862\n",
       "Earning's Review       4590\n",
       "ad-hoc                 1223\n",
       "Estimate Change         626\n",
       "Rating Change           530\n",
       "Initiation              188\n",
       "Name: report_type, dtype: int64"
      ]
     },
     "execution_count": 27,
     "metadata": {},
     "output_type": "execute_result"
    }
   ],
   "source": [
    "senti['report_type'].value_counts()"
   ]
  },
  {
   "cell_type": "code",
   "execution_count": 28,
   "id": "155458c4",
   "metadata": {},
   "outputs": [],
   "source": [
    "DL.toDB(senti, 'NBC sentiment.csv')"
   ]
  },
  {
   "cell_type": "code",
   "execution_count": 29,
   "id": "afbebfbd",
   "metadata": {},
   "outputs": [
    {
     "data": {
      "text/plain": [
       "dict_values([\"Earning's Review\", 'Rating Change', 'Target Price Change', 'Estimate Change', 'Initiation'])"
      ]
     },
     "execution_count": 29,
     "metadata": {},
     "output_type": "execute_result"
    }
   ],
   "source": [
    "REPORT_TYPE_MAPPING.values()"
   ]
  },
  {
   "cell_type": "code",
   "execution_count": null,
   "id": "5376c8a6",
   "metadata": {},
   "outputs": [],
   "source": []
  }
 ],
 "metadata": {
  "kernelspec": {
   "display_name": "Python 3 (ipykernel)",
   "language": "python",
   "name": "python3"
  },
  "language_info": {
   "codemirror_mode": {
    "name": "ipython",
    "version": 3
   },
   "file_extension": ".py",
   "mimetype": "text/x-python",
   "name": "python",
   "nbconvert_exporter": "python",
   "pygments_lexer": "ipython3",
   "version": "3.9.7"
  }
 },
 "nbformat": 4,
 "nbformat_minor": 5
}
