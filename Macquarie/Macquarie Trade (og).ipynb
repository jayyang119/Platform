{
 "cells": [
  {
   "cell_type": "code",
   "execution_count": 1,
   "id": "1bd52225",
   "metadata": {},
   "outputs": [],
   "source": [
    "import pandas as pd\n",
    "from selenium import webdriver\n",
    "from selenium.webdriver.common.by import By\n",
    "import time\n",
    "from selenium.webdriver.common.action_chains import ActionChains\n",
    "import PyPDF2\n",
    "from PyPDF2 import PdfFileReader\n",
    "import re\n",
    "import pandas as pd\n",
    "import numpy as np\n",
    "import glob\n",
    "import matplotlib.pyplot as plt\n",
    "import seaborn as sns\n",
    "import random\n",
    "import warnings\n",
    "import sys\n",
    "from sklearn import linear_model\n",
    "warnings.filterwarnings(\"ignore\")\n",
    "sys.path.append(r'C:\\Users\\ZeyuWang\\OneDrive - Alpha Sherpa Capital\\Desktop\\asc-library-temp')"
   ]
  },
  {
   "cell_type": "code",
   "execution_count": 2,
   "id": "aa483c1d",
   "metadata": {},
   "outputs": [],
   "source": [
    "from library import Dataset\n",
    "from finbert_senti import get_finbert_sentiments"
   ]
  },
  {
   "cell_type": "code",
   "execution_count": 3,
   "id": "8e3cc803",
   "metadata": {},
   "outputs": [],
   "source": [
    "driver = webdriver.Chrome(r'C:\\Users\\ZeyuWang\\OneDrive - Alpha Sherpa Capital\\Desktop\\chromedriver.exe')"
   ]
  },
  {
   "cell_type": "code",
   "execution_count": 43,
   "id": "10092a5a",
   "metadata": {},
   "outputs": [],
   "source": [
    "while True:\n",
    "    try:\n",
    "        button = driver.find_element_by_link_text('View more')\n",
    "        button.click()\n",
    "        time.sleep(0.5)\n",
    "    except:\n",
    "        break"
   ]
  },
  {
   "cell_type": "code",
   "execution_count": 78,
   "id": "63a859af",
   "metadata": {},
   "outputs": [],
   "source": [
    "elems = driver.find_elements_by_xpath(\"//a[@href]\")\n",
    "links = []\n",
    "for elem in elems:\n",
    "    links.append(elem.get_attribute(\"href\"))\n",
    "useful_links = [link for link in links if link.find('researchId') != -1]\n",
    "df = pd.DataFrame(useful_links)\n",
    "df = df.drop_duplicates()\n",
    "df = df.reset_index(drop=True)"
   ]
  },
  {
   "cell_type": "code",
   "execution_count": 79,
   "id": "1d1e6255",
   "metadata": {},
   "outputs": [],
   "source": [
    "for i in range(0,len(df)):\n",
    "    driver.get(df.iloc[i,0])\n",
    "    time.sleep(3)\n",
    "    button = driver.find_element_by_link_text('DOWNLOAD')\n",
    "    button.click()\n",
    "    \n",
    "    time.sleep(0.5)"
   ]
  },
  {
   "cell_type": "code",
   "execution_count": 27,
   "id": "1c877c5a",
   "metadata": {},
   "outputs": [],
   "source": [
    "path = r\"C:\\Users\\ZeyuWang\\OneDrive - Alpha Sherpa Capital\\Desktop\\Macquarie trades\\*.pdf\"\n",
    "files=glob.glob(path)\n",
    "reports_path = []\n",
    "for file_name in files:\n",
    "    reports_path.append(file_name)\n",
    "df = pd.DataFrame(reports_path, columns =['Path'])"
   ]
  },
  {
   "cell_type": "code",
   "execution_count": 28,
   "id": "a91bb440",
   "metadata": {},
   "outputs": [
    {
     "data": {
      "text/html": [
       "<div>\n",
       "<style scoped>\n",
       "    .dataframe tbody tr th:only-of-type {\n",
       "        vertical-align: middle;\n",
       "    }\n",
       "\n",
       "    .dataframe tbody tr th {\n",
       "        vertical-align: top;\n",
       "    }\n",
       "\n",
       "    .dataframe thead th {\n",
       "        text-align: right;\n",
       "    }\n",
       "</style>\n",
       "<table border=\"1\" class=\"dataframe\">\n",
       "  <thead>\n",
       "    <tr style=\"text-align: right;\">\n",
       "      <th></th>\n",
       "      <th>Path</th>\n",
       "      <th>Text</th>\n",
       "    </tr>\n",
       "  </thead>\n",
       "  <tbody>\n",
       "  </tbody>\n",
       "</table>\n",
       "</div>"
      ],
      "text/plain": [
       "Empty DataFrame\n",
       "Columns: [Path, Text]\n",
       "Index: []"
      ]
     },
     "execution_count": 28,
     "metadata": {},
     "output_type": "execute_result"
    }
   ],
   "source": [
    "df['Text'] = ''\n",
    "for i in range(0,len(df)):\n",
    "    path = df.loc[i,'Path']\n",
    "    pdf=PdfFileReader(path)\n",
    "    text=pdf.getPage(0).extractText()\n",
    "    txt = text.replace('\\n','')\n",
    "    df.loc[i,'Text'] = txt\n",
    "df[df['Text']=='']"
   ]
  },
  {
   "cell_type": "code",
   "execution_count": 29,
   "id": "20bf43c8",
   "metadata": {},
   "outputs": [
    {
     "data": {
      "text/html": [
       "<div>\n",
       "<style scoped>\n",
       "    .dataframe tbody tr th:only-of-type {\n",
       "        vertical-align: middle;\n",
       "    }\n",
       "\n",
       "    .dataframe tbody tr th {\n",
       "        vertical-align: top;\n",
       "    }\n",
       "\n",
       "    .dataframe thead th {\n",
       "        text-align: right;\n",
       "    }\n",
       "</style>\n",
       "<table border=\"1\" class=\"dataframe\">\n",
       "  <thead>\n",
       "    <tr style=\"text-align: right;\">\n",
       "      <th></th>\n",
       "      <th>Path</th>\n",
       "      <th>Text</th>\n",
       "      <th>publish_date_and_time</th>\n",
       "    </tr>\n",
       "  </thead>\n",
       "  <tbody>\n",
       "  </tbody>\n",
       "</table>\n",
       "</div>"
      ],
      "text/plain": [
       "Empty DataFrame\n",
       "Columns: [Path, Text, publish_date_and_time]\n",
       "Index: []"
      ]
     },
     "execution_count": 29,
     "metadata": {},
     "output_type": "execute_result"
    }
   ],
   "source": [
    "for i in range(0,len(df)):\n",
    "    try:\n",
    "        path = df.loc[i,'Path']\n",
    "        pdf=PdfFileReader(path)\n",
    "        text=pdf.getPage(-1).extractText()\n",
    "        txt = text.replace('\\n','')\n",
    "        df.loc[i,'publish_date_and_time'] = txt\n",
    "    except:\n",
    "        print(i)\n",
    "    time = df.loc[i,'publish_date_and_time']\n",
    "    time= time.replace('This publication was disseminated on ','')\n",
    "    time = time.replace('at ','')\n",
    "    time = time.replace('.','')\n",
    "    time= time.replace(' UTC','')\n",
    "    df.loc[i,'publish_date_and_time'] = time\n",
    "df[df['publish_date_and_time']=='']"
   ]
  },
  {
   "cell_type": "code",
   "execution_count": 30,
   "id": "16c63d80",
   "metadata": {},
   "outputs": [
    {
     "data": {
      "text/plain": [
       "array(['Terence Chang', 'Cherry Ma', 'Linda Huang'], dtype=object)"
      ]
     },
     "execution_count": 30,
     "metadata": {},
     "output_type": "execute_result"
    }
   ],
   "source": [
    "#Analyst\n",
    "df['Primary Analyst'] = ''\n",
    "\n",
    "for x in range(0,len(df)):\n",
    "    txt = df.loc[x,'Text']\n",
    "    #primary analyst\n",
    "    txt_lst = txt.split()\n",
    "    emails = [i for i in txt_lst if '@macquarie.com' in i]\n",
    "    emails = [i.replace('@macquarie.com', '') for i in emails]\n",
    "    emails = [i.split('.') for i in emails]\n",
    "    if len(emails) > 0:\n",
    "        analyst_pri = [i.capitalize() for i in emails[0]]\n",
    "        analyst_pri = ' '.join(analyst_pri)\n",
    "        df.loc[x,'Primary Analyst'] = analyst_pri\n",
    "df['Primary Analyst'].unique()"
   ]
  },
  {
   "cell_type": "code",
   "execution_count": 31,
   "id": "32cb9f51",
   "metadata": {},
   "outputs": [
    {
     "data": {
      "text/plain": [
       "array(['2020 HK', '285 HK', '6808 HK'], dtype=object)"
      ]
     },
     "execution_count": 31,
     "metadata": {},
     "output_type": "execute_result"
    }
   ],
   "source": [
    "df['ticker'] = ''\n",
    "for i in range(0,len(df)):\n",
    "    txt = df.loc[i,'Text']\n",
    "    namere=re.compile(r'@macquarie.com\\s+([A-ZÉa-z0-9&-( ]+)\\)\\s')\n",
    "    name=namere.findall(txt)\n",
    "    ticker = ''\n",
    "    company_name = ''\n",
    "    if len(name) >0:\n",
    "        if len(name) >1:\n",
    "            name = name[-1]\n",
    "        else:\n",
    "            name = name[0]\n",
    "        name = name.split(' ')\n",
    "        tick = ' '.join([name[-2],name[-1]])\n",
    "        ticker = tick.replace('(','')\n",
    "        ticker = ticker.replace(')','')\n",
    "        company_name = name[:len(name)-2]\n",
    "        company_name = ' '.join(company_name)\n",
    "    df.loc[i,'Company Name'] = company_name\n",
    "    df.loc[i,'ticker'] = ticker\n",
    "    if df.loc[i,'ticker'] == '':\n",
    "        tickre = re.compile(r'\\d{3,4}\\s[HK|JP|TT]')\n",
    "        ticker = tickre.findall(txt)\n",
    "        if len(ticker)>0:\n",
    "            ticker = ticker[0]\n",
    "        else:\n",
    "            ticker = ''\n",
    "    df.loc[i,'ticker'] = ticker\n",
    "df[df['ticker']=='']\n",
    "df['ticker'].unique()"
   ]
  },
  {
   "cell_type": "code",
   "execution_count": 32,
   "id": "5bc9bd6b",
   "metadata": {},
   "outputs": [
    {
     "data": {
      "text/html": [
       "<div>\n",
       "<style scoped>\n",
       "    .dataframe tbody tr th:only-of-type {\n",
       "        vertical-align: middle;\n",
       "    }\n",
       "\n",
       "    .dataframe tbody tr th {\n",
       "        vertical-align: top;\n",
       "    }\n",
       "\n",
       "    .dataframe thead th {\n",
       "        text-align: right;\n",
       "    }\n",
       "</style>\n",
       "<table border=\"1\" class=\"dataframe\">\n",
       "  <thead>\n",
       "    <tr style=\"text-align: right;\">\n",
       "      <th></th>\n",
       "      <th>Path</th>\n",
       "      <th>Text</th>\n",
       "      <th>publish_date_and_time</th>\n",
       "      <th>Primary Analyst</th>\n",
       "      <th>ticker</th>\n",
       "      <th>Company Name</th>\n",
       "      <th>Current Rating</th>\n",
       "    </tr>\n",
       "  </thead>\n",
       "  <tbody>\n",
       "  </tbody>\n",
       "</table>\n",
       "</div>"
      ],
      "text/plain": [
       "Empty DataFrame\n",
       "Columns: [Path, Text, publish_date_and_time, Primary Analyst, ticker, Company Name, Current Rating]\n",
       "Index: []"
      ]
     },
     "execution_count": 32,
     "metadata": {},
     "output_type": "execute_result"
    }
   ],
   "source": [
    "#Current Rating\n",
    "df['Current Rating'] = ''\n",
    "for x in range(0,len(df)):\n",
    "    txt = df.loc[x,'Text']\n",
    "    r = re.compile('[JP|HK|TT]\\s+([A-Za-z]+)\\sPrice\\s')\n",
    "    rating_curr = r.findall(txt)\n",
    "    if len(rating_curr)>0:\n",
    "        rating_curr = rating_curr[0]\n",
    "    else:\n",
    "        rating_curr = ''\n",
    "    df.loc[x,'Current Rating'] = rating_curr\n",
    "df[df['Current Rating']=='']"
   ]
  },
  {
   "cell_type": "code",
   "execution_count": 33,
   "id": "b0dada56",
   "metadata": {},
   "outputs": [
    {
     "data": {
      "text/html": [
       "<div>\n",
       "<style scoped>\n",
       "    .dataframe tbody tr th:only-of-type {\n",
       "        vertical-align: middle;\n",
       "    }\n",
       "\n",
       "    .dataframe tbody tr th {\n",
       "        vertical-align: top;\n",
       "    }\n",
       "\n",
       "    .dataframe thead th {\n",
       "        text-align: right;\n",
       "    }\n",
       "</style>\n",
       "<table border=\"1\" class=\"dataframe\">\n",
       "  <thead>\n",
       "    <tr style=\"text-align: right;\">\n",
       "      <th></th>\n",
       "      <th>Path</th>\n",
       "      <th>Text</th>\n",
       "      <th>publish_date_and_time</th>\n",
       "      <th>Primary Analyst</th>\n",
       "      <th>ticker</th>\n",
       "      <th>Company Name</th>\n",
       "      <th>Current Rating</th>\n",
       "      <th>headline</th>\n",
       "    </tr>\n",
       "  </thead>\n",
       "  <tbody>\n",
       "  </tbody>\n",
       "</table>\n",
       "</div>"
      ],
      "text/plain": [
       "Empty DataFrame\n",
       "Columns: [Path, Text, publish_date_and_time, Primary Analyst, ticker, Company Name, Current Rating, headline]\n",
       "Index: []"
      ]
     },
     "execution_count": 33,
     "metadata": {},
     "output_type": "execute_result"
    }
   ],
   "source": [
    "#Headline\n",
    "df['headline'] = ''\n",
    "for x in range(0,len(df)):\n",
    "    txt = df.loc[x,'Text']\n",
    "    #Headline\n",
    "    hl_re = re.compile(r'\\s([~A-za-z0-9 +&\\.,;:%/¥$?-]+)\\s(?:Event\\s+|Key\\spoints\\s+)')\n",
    "    headline = hl_re.findall(txt)\n",
    "    if len(headline) > 0:\n",
    "        headline = headline[0]\n",
    "    else:\n",
    "        hl_re = re.compile(r'\\s([~A-za-z0-9 +&\\.,;:%/¥$?-]+)\\sConclusion\\s+')\n",
    "        headline = hl_re.findall(txt)\n",
    "        if len(headline) > 0:\n",
    "            headline = headline[0]\n",
    "        else:\n",
    "            hl_re = re.compile(r'[JP|HK|TT]\\)([~A-za-z0-9-; ]+)')\n",
    "            headline = hl_re.findall(txt)\n",
    "            if len(headline) > 0:\n",
    "                headline = headline[0]\n",
    "            else:\n",
    "                headline = ''\n",
    "    df.loc[x,'headline'] = headline\n",
    "df[df['headline']=='']"
   ]
  },
  {
   "cell_type": "code",
   "execution_count": 34,
   "id": "75997f25",
   "metadata": {},
   "outputs": [
    {
     "data": {
      "text/html": [
       "<div>\n",
       "<style scoped>\n",
       "    .dataframe tbody tr th:only-of-type {\n",
       "        vertical-align: middle;\n",
       "    }\n",
       "\n",
       "    .dataframe tbody tr th {\n",
       "        vertical-align: top;\n",
       "    }\n",
       "\n",
       "    .dataframe thead th {\n",
       "        text-align: right;\n",
       "    }\n",
       "</style>\n",
       "<table border=\"1\" class=\"dataframe\">\n",
       "  <thead>\n",
       "    <tr style=\"text-align: right;\">\n",
       "      <th></th>\n",
       "      <th>Path</th>\n",
       "      <th>Text</th>\n",
       "      <th>publish_date_and_time</th>\n",
       "      <th>Primary Analyst</th>\n",
       "      <th>ticker</th>\n",
       "      <th>Company Name</th>\n",
       "      <th>Current Rating</th>\n",
       "      <th>headline</th>\n",
       "      <th>summary</th>\n",
       "    </tr>\n",
       "  </thead>\n",
       "  <tbody>\n",
       "  </tbody>\n",
       "</table>\n",
       "</div>"
      ],
      "text/plain": [
       "Empty DataFrame\n",
       "Columns: [Path, Text, publish_date_and_time, Primary Analyst, ticker, Company Name, Current Rating, headline, summary]\n",
       "Index: []"
      ]
     },
     "execution_count": 34,
     "metadata": {},
     "output_type": "execute_result"
    }
   ],
   "source": [
    "#Summary\n",
    "df['summary'] = ''\n",
    "for x in range(0,len(df)):\n",
    "    txt = df.loc[x,'Text']\n",
    "    smr = re.compile(r'@macquarie.com\\s+([A-Za-z0-9-()/;,.:$¥%+>&?! ]+)')\n",
    "    smr = smr.findall(txt)\n",
    "    if len(smr) > 0:\n",
    "        if len(smr) == 1:\n",
    "            smr = smr[0]\n",
    "        else:\n",
    "            smr = smr[-1]\n",
    "    else:\n",
    "        smr = ''\n",
    "    df.loc[x,'summary'] = smr\n",
    "df[df['summary']=='']   "
   ]
  },
  {
   "cell_type": "code",
   "execution_count": 35,
   "id": "4cdeb774",
   "metadata": {},
   "outputs": [
    {
     "data": {
      "text/html": [
       "<div>\n",
       "<style scoped>\n",
       "    .dataframe tbody tr th:only-of-type {\n",
       "        vertical-align: middle;\n",
       "    }\n",
       "\n",
       "    .dataframe tbody tr th {\n",
       "        vertical-align: top;\n",
       "    }\n",
       "\n",
       "    .dataframe thead th {\n",
       "        text-align: right;\n",
       "    }\n",
       "</style>\n",
       "<table border=\"1\" class=\"dataframe\">\n",
       "  <thead>\n",
       "    <tr style=\"text-align: right;\">\n",
       "      <th></th>\n",
       "      <th>Path</th>\n",
       "      <th>Text</th>\n",
       "      <th>publish_date_and_time</th>\n",
       "      <th>Primary Analyst</th>\n",
       "      <th>ticker</th>\n",
       "      <th>Company Name</th>\n",
       "      <th>Current Rating</th>\n",
       "      <th>headline</th>\n",
       "      <th>summary</th>\n",
       "      <th>gics1</th>\n",
       "    </tr>\n",
       "  </thead>\n",
       "  <tbody>\n",
       "  </tbody>\n",
       "</table>\n",
       "</div>"
      ],
      "text/plain": [
       "Empty DataFrame\n",
       "Columns: [Path, Text, publish_date_and_time, Primary Analyst, ticker, Company Name, Current Rating, headline, summary, gics1]\n",
       "Index: []"
      ]
     },
     "execution_count": 35,
     "metadata": {},
     "output_type": "execute_result"
    }
   ],
   "source": [
    "#GICS\n",
    "df['gics1'] = ''\n",
    "for x in range(0,len(df)):\n",
    "    txt = df.loc[x,'Text']\n",
    "    gics = re.compile(r'GICS\\ssector\\s+([A-Za-z-()/,& ]+)\\s+Mar')\n",
    "    gics1 = gics.findall(txt)\n",
    "    if len(gics1) > 0:\n",
    "        gics1 = gics1[0]\n",
    "    else:\n",
    "        gics1 = ''\n",
    "    df.loc[x,'gics1'] = gics1\n",
    "df[df['gics1']=='']   "
   ]
  },
  {
   "cell_type": "code",
   "execution_count": 36,
   "id": "a32ef723",
   "metadata": {},
   "outputs": [
    {
     "data": {
      "text/html": [
       "<div>\n",
       "<style scoped>\n",
       "    .dataframe tbody tr th:only-of-type {\n",
       "        vertical-align: middle;\n",
       "    }\n",
       "\n",
       "    .dataframe tbody tr th {\n",
       "        vertical-align: top;\n",
       "    }\n",
       "\n",
       "    .dataframe thead th {\n",
       "        text-align: right;\n",
       "    }\n",
       "</style>\n",
       "<table border=\"1\" class=\"dataframe\">\n",
       "  <thead>\n",
       "    <tr style=\"text-align: right;\">\n",
       "      <th></th>\n",
       "      <th>Path</th>\n",
       "      <th>Text</th>\n",
       "      <th>publish_date_and_time</th>\n",
       "      <th>Primary Analyst</th>\n",
       "      <th>ticker</th>\n",
       "      <th>Company Name</th>\n",
       "      <th>Current Rating</th>\n",
       "      <th>headline</th>\n",
       "      <th>summary</th>\n",
       "      <th>gics1</th>\n",
       "      <th>Report Type</th>\n",
       "    </tr>\n",
       "  </thead>\n",
       "  <tbody>\n",
       "  </tbody>\n",
       "</table>\n",
       "</div>"
      ],
      "text/plain": [
       "Empty DataFrame\n",
       "Columns: [Path, Text, publish_date_and_time, Primary Analyst, ticker, Company Name, Current Rating, headline, summary, gics1, Report Type]\n",
       "Index: []"
      ]
     },
     "execution_count": 36,
     "metadata": {},
     "output_type": "execute_result"
    }
   ],
   "source": [
    "#Report type\n",
    "df['Report Type'] = 'Ad hoc'\n",
    "for x in range(0,len(df)):\n",
    "    txt = df.loc[x,'Text']\n",
    "    er = re.compile(r'(Strong|strong|Good|good)\\s+[~A-za-z0-9 +&\\.,;:%/¥$?-]+results')\n",
    "    er = er.findall(txt)\n",
    "    if len(er)>0:\n",
    "        df.loc[x,'Report Type'] = 'Earning Review'\n",
    "    er = re.compile(r'(Beat|beat)\\s+[~A-za-z0-9 +&\\.,;:%/¥$?-]+consensus')\n",
    "    er = er.findall(txt)\n",
    "    if len(er)>0:\n",
    "        df.loc[x,'Report Type'] = 'Earning Review'\n",
    "    \n",
    "    if df.loc[x,'Report Type'] != 'Earning Review':\n",
    "        txt = df.loc[x,'headline']\n",
    "        substrings = ['3Q','1Q','2Q','4Q','1H','2H','FY','2018','2019','2020','2021','earnings','Earnings']\n",
    "        if any(substring in txt for substring in substrings)== True:\n",
    "            df.loc[x,'Report Type'] = 'Earning Related'\n",
    "        else:\n",
    "            txt = df.loc[x,'Text']\n",
    "            substrings = ['Initiate','initiate coverage','Initiating','initiating']\n",
    "            if any(substring in txt for substring in substrings)== True:\n",
    "                df.loc[x,'Report Type'] = 'Initiation'\n",
    "            else: \n",
    "                substrings = ['Upgrade to','upgrade to','Upgrade from','upgrade from','Upgrading','upgrading'] \n",
    "                if any(substring in txt for substring in substrings)== True:\n",
    "                    df.loc[x,'Report Type'] = 'Rating Upgrade'\n",
    "                else:\n",
    "                    substrings = ['Downgrade to','downgrade to','Downgrade from','downgrade from']\n",
    "                    if any(substring in txt for substring in substrings)== True:\n",
    "                        df.loc[x,'Report Type'] = 'Rating Downgrade'   \n",
    "                    else:\n",
    "                        substrings = ['Earnings and target price revision']\n",
    "                        if any(substring in txt for substring in substrings)== True:\n",
    "                            df.loc[x,'Report Type'] = 'TP Related and Estimate Change'\n",
    "\n",
    "    if df.loc[x,'Report Type'] == 'Ad hoc':\n",
    "        txt = df.loc[x,'Text']\n",
    "        substrings = ['Initiate','initiate','Initiating','initiating']\n",
    "        if any(substring in txt for substring in substrings)== True:\n",
    "            df.loc[x,'Report Type'] = 'Initiation'\n",
    "        else: \n",
    "            substrings = ['Upgrade to','upgrade to','Upgrade from','upgrade from'] \n",
    "            if any(substring in txt for substring in substrings)== True:\n",
    "                df.loc[x,'Report Type'] = 'Rating Upgrade'\n",
    "            else:\n",
    "                substrings = ['Downgrade to','downgrade to','Downgrade from','downgrade from']\n",
    "                if any(substring in txt for substring in substrings)== True:\n",
    "                    df.loc[x,'Report Type'] = 'Rating Downgrade'   \n",
    "                else:\n",
    "                    substrings = ['Earnings and target price revision']\n",
    "                    if any(substring in txt for substring in substrings)== True:\n",
    "                        df.loc[x,'Report Type'] = 'TP Related and Estimate Change'\n",
    "                        \n",
    "    \n",
    "    if df.loc[x,'Report Type'] == 'Earning Related':\n",
    "        txt = df.loc[x,'summary']\n",
    "        substrings = ['beat','miss','in line','above','below','In line','Above','Below','Beat','Miss','remains','remain','beats','misses','Beats','Misses','earnings','Earnings''results were better']\n",
    "        if any(substring in txt for substring in substrings)== True:\n",
    "            df.loc[x,'Report Type'] = 'Earning Review'\n",
    "            \n",
    "        else:\n",
    "            txt = df.loc[x,'Text']\n",
    "            substrings = ['Initiate','initiate','Initiating','initiating']\n",
    "            if any(substring in txt for substring in substrings)== True:\n",
    "                df.loc[x,'Report Type'] = 'Initiation'\n",
    "            else: \n",
    "                substrings = ['Upgrade to','upgrade to','Upgrade from','upgrade from'] \n",
    "                if any(substring in txt for substring in substrings)== True:\n",
    "                    df.loc[x,'Report Type'] = 'Rating Upgrade'\n",
    "                else:\n",
    "                    substrings = ['Downgrade to','downgrade to','Downgrade from','downgrade from']\n",
    "                    if any(substring in txt for substring in substrings)== True:\n",
    "                        df.loc[x,'Report Type'] = 'Rating Downgrade'   \n",
    "                    else:\n",
    "                        substrings = ['overshot the consensus']\n",
    "                        if any(substring in txt for substring in substrings)== True:\n",
    "                            df.loc[x,'Report Type'] = 'Earning Review'  \n",
    "                        else:\n",
    "                            df.loc[x,'Report Type'] = 'Ad hoc'\n",
    "                            \n",
    "    if df.loc[x,'Report Type'] == 'TP Related and Estimate Change':\n",
    "        txt = df.loc[x,'Text']\n",
    "        tp = re.compile(r'(Earnings and target price revision)\\s+[~A-za-z0-9 +&\\.,;:%/¥$?-]+')\n",
    "        tp = tp.findall(txt)[0]\n",
    "        substrings1 = ['TP','Target Price','target price','Target price']\n",
    "        substrings2 = ['unchanged target price']\n",
    "        if any(substring in tp for substring in substrings1)== True and any(substring in tp for substring in substrings2)== False:\n",
    "            df.loc[x,'Report Type'] = 'TP change'\n",
    "        else:\n",
    "            df.loc[x,'Report Type'] = 'Estimate change'\n",
    "        substrings = ['No change']\n",
    "        if any(substring in txt for substring in substrings)== True:\n",
    "            df.loc[x,'Report Type'] ='Ad hoc'\n",
    "            \n",
    "            \n",
    "                            \n",
    "df[df['Report Type']=='']"
   ]
  },
  {
   "cell_type": "code",
   "execution_count": 37,
   "id": "e23a90ba",
   "metadata": {},
   "outputs": [
    {
     "name": "stdout",
     "output_type": "stream",
     "text": [
      "Tickers [['2020 HK Equity', '2022-04-18'], ['285 HK Equity', '2022-04-18'], ['6808 HK Equity', '2022-04-19']] are in the trading days json file, but cannot return an entry date.\n"
     ]
    }
   ],
   "source": [
    "data = Dataset(df)\n",
    "data.df['headline_senti'] = get_finbert_sentiments(data.df['headline'])\n",
    "data.df['summary_senti'] = get_finbert_sentiments(data.df['summary'])\n",
    "data.clean(tz_name='Europe/London')\n",
    "df = data.df"
   ]
  },
  {
   "cell_type": "code",
   "execution_count": 2,
   "id": "6af2e82f",
   "metadata": {},
   "outputs": [
    {
     "ename": "NameError",
     "evalue": "name 'pd' is not defined",
     "output_type": "error",
     "traceback": [
      "\u001b[1;31m---------------------------------------------------------------------------\u001b[0m",
      "\u001b[1;31mNameError\u001b[0m                                 Traceback (most recent call last)",
      "\u001b[1;32m~\\AppData\\Local\\Temp/ipykernel_38432/2590754672.py\u001b[0m in \u001b[0;36m<module>\u001b[1;34m\u001b[0m\n\u001b[1;32m----> 1\u001b[1;33m \u001b[0mdf1\u001b[0m \u001b[1;33m=\u001b[0m \u001b[0mpd\u001b[0m\u001b[1;33m.\u001b[0m\u001b[0mread_csv\u001b[0m\u001b[1;33m(\u001b[0m\u001b[1;34mr'C:\\Users\\ZeyuWang\\OneDrive - Alpha Sherpa Capital\\Desktop\\trades\\scoring.csv'\u001b[0m\u001b[1;33m)\u001b[0m\u001b[1;33m\u001b[0m\u001b[1;33m\u001b[0m\u001b[0m\n\u001b[0m",
      "\u001b[1;31mNameError\u001b[0m: name 'pd' is not defined"
     ]
    }
   ],
   "source": [
    "df1 = pd.read_csv(r'C:\\Users\\ZeyuWang\\OneDrive - Alpha Sherpa Capital\\Desktop\\trades\\scoring.csv')"
   ]
  },
  {
   "cell_type": "code",
   "execution_count": 39,
   "id": "08b7600c",
   "metadata": {},
   "outputs": [],
   "source": [
    "df['side'] = ''\n",
    "for x in range(len(df)):\n",
    "    if df.loc[x,'summary_senti'] == 'positive' and df.loc[x,'headline_senti'] == 'positive':\n",
    "        df.loc[x,'side'] = 'long'\n",
    "    elif df.loc[x,'summary_senti'] == 'negative' or df.loc[x,'headline_senti'] == 'negative':\n",
    "        df.loc[x,'side'] = 'short'\n",
    "df = df.dropna(subset=['side'])\n",
    "df = df.reset_index(drop=True)"
   ]
  },
  {
   "cell_type": "code",
   "execution_count": 40,
   "id": "e73aa403",
   "metadata": {},
   "outputs": [],
   "source": [
    "for i in range(len(df)):\n",
    "    if df.loc[i,'side'] == 'long':\n",
    "        if df.loc[i,'Current Rating'] == 'Outperform':\n",
    "            df.loc[i,'w5'] = 1\n",
    "        else:\n",
    "            df.loc[i,'w5'] = 0\n",
    "    else:\n",
    "        if df.loc[i,'Current Rating'] == 'Outperform':\n",
    "            df.loc[i,'w5'] = 0\n",
    "        else:\n",
    "            df.loc[i,'w5'] = 1"
   ]
  },
  {
   "cell_type": "code",
   "execution_count": 41,
   "id": "b87cbe4e",
   "metadata": {},
   "outputs": [],
   "source": [
    "df1 = pd.concat([df1,df])"
   ]
  },
  {
   "cell_type": "code",
   "execution_count": 1,
   "id": "06707d09",
   "metadata": {},
   "outputs": [
    {
     "ename": "NameError",
     "evalue": "name 'df1' is not defined",
     "output_type": "error",
     "traceback": [
      "\u001b[1;31m---------------------------------------------------------------------------\u001b[0m",
      "\u001b[1;31mNameError\u001b[0m                                 Traceback (most recent call last)",
      "\u001b[1;32m~\\AppData\\Local\\Temp/ipykernel_38432/3309751900.py\u001b[0m in \u001b[0;36m<module>\u001b[1;34m\u001b[0m\n\u001b[1;32m----> 1\u001b[1;33m \u001b[0mdf1\u001b[0m\u001b[1;33m\u001b[0m\u001b[1;33m\u001b[0m\u001b[0m\n\u001b[0m",
      "\u001b[1;31mNameError\u001b[0m: name 'df1' is not defined"
     ]
    }
   ],
   "source": [
    "df1"
   ]
  },
  {
   "cell_type": "code",
   "execution_count": null,
   "id": "5f636020",
   "metadata": {},
   "outputs": [],
   "source": []
  },
  {
   "cell_type": "code",
   "execution_count": 42,
   "id": "0327bc21",
   "metadata": {
    "scrolled": true
   },
   "outputs": [
    {
     "name": "stdout",
     "output_type": "stream",
     "text": [
      "No trade\n"
     ]
    }
   ],
   "source": [
    "dft = df[df['exch_location']=='Taiwan'].reset_index(drop=True)\n",
    "dfh = df1[df1['exch_location']=='Hong Kong'].reset_index(drop=True)\n",
    "#   dft = df[df['Country']=='TT'].reset_index(drop=True)\n",
    "dfj = df1[df1['exch_location']=='Japan'].reset_index(drop=True)\n",
    "#   dfk = df[df['Country']=='KS'].reset_index(drop=True)\n",
    "allset = [dfh,dfj]\n",
    "predset= [dfh[dfh['report_id'].isnull()==False],dfj[dfj['report_id'].isnull()==False]]\n",
    "valset= [dfh[dfh['report_id'].isnull()==True],dfj[dfj['report_id'].isnull()==True]]\n",
    "vali_sets = [] \n",
    "for i in range(len(predset)):\n",
    "\n",
    "    lst = list(allset[i]['side'].unique())\n",
    "    w1 = []\n",
    "    for x in lst:\n",
    "        pf = predset[i][predset[i]['side']== x]\n",
    "        num = pf['d0_r'].mean()\n",
    "        w1.append(num)\n",
    "    zip_iterator = zip(lst, w1)\n",
    "    a_dictionary = dict(zip_iterator)\n",
    "    for x in range(len(allset[i])):\n",
    "        allset[i].loc[x,'w1'] = a_dictionary[allset[i].loc[x,'side']]\n",
    "\n",
    "\n",
    "    lst = list(allset[i]['Primary Analyst'].unique())\n",
    "    w2 = []\n",
    "    for x in lst:\n",
    "        pf = predset[i][predset[i]['Primary Analyst']== x]\n",
    "        num = pf['d0_r'].mean()\n",
    "        w2.append(num)\n",
    "    zip_iterator = zip(lst, w2)\n",
    "    a_dictionary = dict(zip_iterator)\n",
    "    for x in range(len(allset[i])):\n",
    "        allset[i].loc[x,'w2'] = a_dictionary[allset[i].loc[x,'Primary Analyst']]\n",
    "\n",
    "    lst = list(allset[i]['Report Type'].unique())\n",
    "    w3 = []\n",
    "    for x in lst:\n",
    "        pf = predset[i][predset[i]['Report Type']== x]\n",
    "        num = pf['d0_r'].mean()\n",
    "        w3.append(num)\n",
    "    zip_iterator = zip(lst, w3)\n",
    "    a_dictionary = dict(zip_iterator)\n",
    "    for x in range(len(allset[i])):\n",
    "        allset[i].loc[x,'w3'] = a_dictionary[allset[i].loc[x,'Report Type']]\n",
    "\n",
    "    lst = list(allset[i]['gics1'].unique())\n",
    "    w4 = []\n",
    "    for x in lst:\n",
    "        pf = predset[i][predset[i]['gics1']== x]\n",
    "        num = pf['d0_r'].mean()\n",
    "        w4.append(num)\n",
    "    zip_iterator = zip(lst, w4)\n",
    "    a_dictionary = dict(zip_iterator)\n",
    "    for x in range(len(allset[i])):\n",
    "        allset[i].loc[x,'w4'] = a_dictionary[allset[i].loc[x,'gics1']]\n",
    "\n",
    "\n",
    "    lst = list(allset[i]['release_period'].unique())\n",
    "    w6 = []\n",
    "    for x in lst:\n",
    "        pf = predset[i][predset[i]['release_period']== x]\n",
    "        num = pf['d0_r'].mean()\n",
    "        w6.append(num)\n",
    "    zip_iterator = zip(lst, w6)\n",
    "    a_dictionary = dict(zip_iterator)\n",
    "    for x in range(len(allset[i])):\n",
    "        allset[i].loc[x,'w6'] = a_dictionary[allset[i].loc[x,'release_period']]\n",
    "\n",
    "\n",
    "    allset[i] = allset[i].fillna(value = { \"w1\": allset[i].loc[:,'w1'].mean(), \"w2\": allset[i].loc[:,'w2'].mean(), \"w3\": allset[i].loc[:,'w3'].mean(),\n",
    "                                \"w4\": allset[i].loc[:,'w4'].mean(), \"w5\": allset[i].loc[:,'w5'].mean(),\"w6\": allset[i].loc[:,'w6'].mean()})\n",
    "    \n",
    "    dd = allset[i]\n",
    "    predset= [dd[dd['report_id'].isnull()==False],dd[dd['report_id'].isnull()==False]]\n",
    "    valset= [dd[dd['report_id'].isnull()==True],dd[dd['report_id'].isnull()==True]]\n",
    "\n",
    "\n",
    "    Y = predset[i].loc[:,'d0_r_af']\n",
    "    X = predset[i].loc[:,['w1','w2','w3','w4','w5','w6']]\n",
    "    regr = linear_model.LinearRegression()\n",
    "    regr.fit(X, Y)\n",
    "    try:\n",
    "        predicted_r = regr.predict(valset[i].loc[:,['w1','w2','w3','w4','w5','w6']])\n",
    "        sort_by = list(predicted_r)\n",
    "        valset[i] = valset[i].reset_index(drop=True)\n",
    "        for x in range(len(valset[i])):\n",
    "            valset[i].loc[x,'sort_by'] = predicted_r[x]\n",
    "        vali_sets.append(valset[i])\n",
    "    except:\n",
    "        print('No trade')\n",
    "vali_sets.append(dft)\n",
    "val = pd.concat(vali_sets).reset_index(drop=True)\n",
    "data= Dataset(val)\n",
    "#trades = data._select_trades_with_portfolio_constraint(data.df, sort_by='sort_by',max_trade=2,max_skew=0).reset_index(drop=True)\n",
    "#trades = trades[['ticker_updated','sort_by','side','headline_senti','summary_senti','Company Name','Primary Analyst','Report Type','gics1','release_period','headline','summary','publish_date_and_time']]\n",
    "val = val[['ticker','date_local','release_period','side','gics1','Report Type','headline_senti','summary_senti',\n",
    "           'headline','summary','Current Rating','Target Price','sort_by','Primary Analyst','exch_location']].reset_index(drop=True)"
   ]
  },
  {
   "cell_type": "code",
   "execution_count": 43,
   "id": "8a2870ad-128e-407e-98e9-43f0adafbcba",
   "metadata": {},
   "outputs": [
    {
     "data": {
      "text/html": [
       "<div>\n",
       "<style scoped>\n",
       "    .dataframe tbody tr th:only-of-type {\n",
       "        vertical-align: middle;\n",
       "    }\n",
       "\n",
       "    .dataframe tbody tr th {\n",
       "        vertical-align: top;\n",
       "    }\n",
       "\n",
       "    .dataframe thead th {\n",
       "        text-align: right;\n",
       "    }\n",
       "</style>\n",
       "<table border=\"1\" class=\"dataframe\">\n",
       "  <thead>\n",
       "    <tr style=\"text-align: right;\">\n",
       "      <th></th>\n",
       "      <th>ticker</th>\n",
       "      <th>date_local</th>\n",
       "      <th>release_period</th>\n",
       "      <th>side</th>\n",
       "      <th>gics1</th>\n",
       "      <th>Report Type</th>\n",
       "      <th>headline_senti</th>\n",
       "      <th>summary_senti</th>\n",
       "      <th>headline</th>\n",
       "      <th>summary</th>\n",
       "      <th>Current Rating</th>\n",
       "      <th>Target Price</th>\n",
       "      <th>sort_by</th>\n",
       "      <th>Primary Analyst</th>\n",
       "      <th>exch_location</th>\n",
       "    </tr>\n",
       "  </thead>\n",
       "  <tbody>\n",
       "    <tr>\n",
       "      <th>0</th>\n",
       "      <td>2020 HK</td>\n",
       "      <td>2022-04-18</td>\n",
       "      <td>Within</td>\n",
       "      <td>short</td>\n",
       "      <td>Consumer Durables &amp; Apparel</td>\n",
       "      <td>Earning Review</td>\n",
       "      <td>negative</td>\n",
       "      <td>negative</td>\n",
       "      <td>COVID lockdown impact dragging into 2Q22</td>\n",
       "      <td>Anta Sports (2020 HK) COVID lockdown impact dr...</td>\n",
       "      <td>Outperform</td>\n",
       "      <td>NaN</td>\n",
       "      <td>0.068952</td>\n",
       "      <td>Terence Chang</td>\n",
       "      <td>Hong Kong</td>\n",
       "    </tr>\n",
       "    <tr>\n",
       "      <th>1</th>\n",
       "      <td>285 HK</td>\n",
       "      <td>2022-04-18</td>\n",
       "      <td>After</td>\n",
       "      <td>short</td>\n",
       "      <td>Technology Hardware &amp; Equipment</td>\n",
       "      <td>Earning Review</td>\n",
       "      <td>neutral</td>\n",
       "      <td>negative</td>\n",
       "      <td>HK</td>\n",
       "      <td>BYD Electronic (285 HK) Consumption slowdown a...</td>\n",
       "      <td>Outperform</td>\n",
       "      <td>NaN</td>\n",
       "      <td>0.028715</td>\n",
       "      <td>Cherry Ma</td>\n",
       "      <td>Hong Kong</td>\n",
       "    </tr>\n",
       "    <tr>\n",
       "      <th>2</th>\n",
       "      <td>6808 HK</td>\n",
       "      <td>2022-04-19</td>\n",
       "      <td>Before</td>\n",
       "      <td>short</td>\n",
       "      <td>Food &amp; Staples Retailing</td>\n",
       "      <td>Earning Review</td>\n",
       "      <td>positive</td>\n",
       "      <td>negative</td>\n",
       "      <td>FY22 profit warning</td>\n",
       "      <td>Sun Art Retail Group (6808 HK) FY22 profit war...</td>\n",
       "      <td>Outperform</td>\n",
       "      <td>NaN</td>\n",
       "      <td>0.387988</td>\n",
       "      <td>Linda Huang</td>\n",
       "      <td>Hong Kong</td>\n",
       "    </tr>\n",
       "  </tbody>\n",
       "</table>\n",
       "</div>"
      ],
      "text/plain": [
       "    ticker  date_local release_period   side                            gics1  \\\n",
       "0  2020 HK  2022-04-18         Within  short      Consumer Durables & Apparel   \n",
       "1   285 HK  2022-04-18          After  short  Technology Hardware & Equipment   \n",
       "2  6808 HK  2022-04-19         Before  short         Food & Staples Retailing   \n",
       "\n",
       "      Report Type headline_senti summary_senti  \\\n",
       "0  Earning Review       negative      negative   \n",
       "1  Earning Review        neutral      negative   \n",
       "2  Earning Review       positive      negative   \n",
       "\n",
       "                                    headline  \\\n",
       "0  COVID lockdown impact dragging into 2Q22    \n",
       "1                                         HK   \n",
       "2                        FY22 profit warning   \n",
       "\n",
       "                                             summary Current Rating  \\\n",
       "0  Anta Sports (2020 HK) COVID lockdown impact dr...     Outperform   \n",
       "1  BYD Electronic (285 HK) Consumption slowdown a...     Outperform   \n",
       "2  Sun Art Retail Group (6808 HK) FY22 profit war...     Outperform   \n",
       "\n",
       "  Target Price   sort_by Primary Analyst exch_location  \n",
       "0          NaN  0.068952   Terence Chang     Hong Kong  \n",
       "1          NaN  0.028715       Cherry Ma     Hong Kong  \n",
       "2          NaN  0.387988     Linda Huang     Hong Kong  "
      ]
     },
     "execution_count": 43,
     "metadata": {},
     "output_type": "execute_result"
    }
   ],
   "source": [
    "val"
   ]
  },
  {
   "cell_type": "code",
   "execution_count": 44,
   "id": "d3ab8c26",
   "metadata": {},
   "outputs": [],
   "source": [
    "val = val.rename(columns={\"ticker\": \"Ticker\", \n",
    "                          \"date_local\": \"Date of publish\",\n",
    "                         \"release_period\": \"Timing\",\n",
    "                         \"side\": \"Side\",\n",
    "                         \"sector\": \"gics1\", \n",
    "                         \"Report Type\": \"Report Type (Broker)\",\n",
    "                         \"headline_senti\": \"Headline Sentiment\",\n",
    "                         \"summary_senti\": \"Summary Sentiment\",\n",
    "                          \"Primary Analyst\": \"Analyst Primary\",\n",
    "                         \"headline\": \"Headline Content\",\n",
    "                         \"summary\": \"Summary Content\",\n",
    "                         \"Target Price\": \"Current Target Price\",\n",
    "                         \"sort_by\": \"Final Expectancy D0\",\n",
    "                         \"long\": \"Top Analyst (long)\",\n",
    "                        \"short\": \"Top Analyst (short)\",\n",
    "                        \"analyst_pri\": \"Analyst Primary\"\n",
    "                         })"
   ]
  },
  {
   "cell_type": "code",
   "execution_count": 45,
   "id": "9c4721a3-b628-40a6-98d5-3dd4632e1ac3",
   "metadata": {},
   "outputs": [],
   "source": [
    "bench= pd.read_csv(r'C:\\Users\\ZeyuWang\\OneDrive - Alpha Sherpa Capital\\Desktop\\Macquarie New\\mac_full.csv')\n"
   ]
  },
  {
   "cell_type": "code",
   "execution_count": 46,
   "id": "3a6f41a9-db6e-4704-9f61-3e16519a9ff0",
   "metadata": {},
   "outputs": [],
   "source": [
    "for i in range(len(val)):\n",
    "    needed = bench[(bench['headline_senti']==val.loc[i,'Headline Sentiment'])&(bench['summary_senti']==val.loc[i,'Summary Sentiment'])&(bench['Report Type']==val.loc[i,'Report Type (Broker)'])&(bench['exch_location']==val.loc[i,'exch_location'])]\n",
    "    val.loc[i,'Blind Long expectancy'] = needed.dropna(subset=['l0'])['l0'].mean()\n",
    "    val.loc[i,'Blind Short expectancy'] = needed.dropna(subset=['s0'])['s0'].mean()"
   ]
  },
  {
   "cell_type": "code",
   "execution_count": 47,
   "id": "f17f504a",
   "metadata": {},
   "outputs": [],
   "source": [
    "anal = pd.read_csv(r'C:\\Users\\ZeyuWang\\OneDrive - Alpha Sherpa Capital\\Desktop\\mac_anl.csv')\n",
    "val = val.merge(anal, on=\"Analyst Primary\", how='left')\n",
    "val[['Top Analyst (long)', 'Top Analyst (short)']] = val[['Top Analyst (long)', 'Top Analyst (short)']].fillna(False)\n",
    "val['Broker']='Macquarie'"
   ]
  },
  {
   "cell_type": "code",
   "execution_count": 48,
   "id": "4686c357-75a0-42aa-ad19-1067022c8b0d",
   "metadata": {},
   "outputs": [],
   "source": [
    "from datetime import datetime "
   ]
  },
  {
   "cell_type": "code",
   "execution_count": 49,
   "id": "f26e2d29",
   "metadata": {},
   "outputs": [],
   "source": [
    "val.to_csv(r'C:\\Users\\ZeyuWang\\OneDrive - Alpha Sherpa Capital\\Desktop\\MAC'+datetime.today().strftime('%m%d')+'.csv',index = False)"
   ]
  },
  {
   "cell_type": "code",
   "execution_count": 197,
   "id": "a0ad9478-3f02-4d06-9ea5-efd57cee8476",
   "metadata": {},
   "outputs": [
    {
     "data": {
      "text/plain": [
       "datetime.datetime(2022, 4, 12, 8, 25, 18, 190779)"
      ]
     },
     "execution_count": 197,
     "metadata": {},
     "output_type": "execute_result"
    }
   ],
   "source": [
    "datetime.today()"
   ]
  },
  {
   "cell_type": "code",
   "execution_count": null,
   "id": "7b68f220-d860-411b-b0fb-a07b086eb9c5",
   "metadata": {},
   "outputs": [],
   "source": []
  }
 ],
 "metadata": {
  "kernelspec": {
   "display_name": "Python 3 (ipykernel)",
   "language": "python",
   "name": "python3"
  },
  "language_info": {
   "codemirror_mode": {
    "name": "ipython",
    "version": 3
   },
   "file_extension": ".py",
   "mimetype": "text/x-python",
   "name": "python",
   "nbconvert_exporter": "python",
   "pygments_lexer": "ipython3",
   "version": "3.7.11"
  }
 },
 "nbformat": 4,
 "nbformat_minor": 5
}
